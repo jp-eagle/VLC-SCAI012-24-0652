{
 "cells": [
  {
   "cell_type": "markdown",
   "metadata": {},
   "source": [
    "# Credit Risk Assessment\n",
    "\n",
    "To assess Loan Application and decide to Approve or Reject"
   ]
  },
  {
   "cell_type": "markdown",
   "metadata": {},
   "source": [
    "## Initialization\n",
    "\n",
    "To initialize development environment"
   ]
  },
  {
   "cell_type": "code",
   "execution_count": 1,
   "metadata": {},
   "outputs": [],
   "source": [
    "# to request Jupyter to print all data in one code section.\n",
    "%config InteractiveShell.ast_node_interactivity='all'\n",
    "\n",
    "# Importing the initial required libraries\n",
    "import numpy as np\n",
    "import pandas as pd\n",
    "import matplotlib.pyplot as plt\n",
    "import plotly.graph_objects as go\n",
    "import seaborn as sns\n",
    "\n",
    "from sklearn.preprocessing import StandardScaler\n",
    "from sklearn.preprocessing import LabelEncoder\n",
    "\n",
    "from sklearn.ensemble import IsolationForest\n",
    "from sklearn.cluster import KMeans\n",
    "from sklearn.mixture import GaussianMixture\n",
    "from sklearn.linear_model import LinearRegression\n",
    "from sklearn.linear_model import LogisticRegression\n",
    "from sklearn.neighbors import KNeighborsClassifier\n",
    "from sklearn.svm import SVC\n",
    "from sklearn.tree import DecisionTreeClassifier\n",
    "\n",
    "from sklearn.model_selection import train_test_split\n",
    "from sklearn.metrics import mean_squared_error, r2_score, mean_absolute_error, accuracy_score, confusion_matrix, silhouette_score, calinski_harabasz_score\n",
    "\n",
    "# to save and load trained model file\n",
    "from joblib import dump, load\n",
    "\n",
    "# To ignore the warnings that may appear\n",
    "import warnings\n",
    "warnings.filterwarnings(\"ignore\")"
   ]
  },
  {
   "cell_type": "markdown",
   "metadata": {},
   "source": [
    "## Data Study\n",
    "\n",
    "To understand data pattern"
   ]
  },
  {
   "cell_type": "code",
   "execution_count": 2,
   "metadata": {},
   "outputs": [
    {
     "data": {
      "text/html": [
       "<div>\n",
       "<style scoped>\n",
       "    .dataframe tbody tr th:only-of-type {\n",
       "        vertical-align: middle;\n",
       "    }\n",
       "\n",
       "    .dataframe tbody tr th {\n",
       "        vertical-align: top;\n",
       "    }\n",
       "\n",
       "    .dataframe thead th {\n",
       "        text-align: right;\n",
       "    }\n",
       "</style>\n",
       "<table border=\"1\" class=\"dataframe\">\n",
       "  <thead>\n",
       "    <tr style=\"text-align: right;\">\n",
       "      <th></th>\n",
       "      <th>ApplicationDate</th>\n",
       "      <th>Age</th>\n",
       "      <th>AnnualIncome</th>\n",
       "      <th>CreditScore</th>\n",
       "      <th>EmploymentStatus</th>\n",
       "      <th>EducationLevel</th>\n",
       "      <th>Experience</th>\n",
       "      <th>LoanAmount</th>\n",
       "      <th>LoanDuration</th>\n",
       "      <th>MaritalStatus</th>\n",
       "      <th>...</th>\n",
       "      <th>MonthlyIncome</th>\n",
       "      <th>UtilityBillsPaymentHistory</th>\n",
       "      <th>JobTenure</th>\n",
       "      <th>NetWorth</th>\n",
       "      <th>BaseInterestRate</th>\n",
       "      <th>InterestRate</th>\n",
       "      <th>MonthlyLoanPayment</th>\n",
       "      <th>TotalDebtToIncomeRatio</th>\n",
       "      <th>LoanApproved</th>\n",
       "      <th>RiskScore</th>\n",
       "    </tr>\n",
       "  </thead>\n",
       "  <tbody>\n",
       "    <tr>\n",
       "      <th>0</th>\n",
       "      <td>2018-01-01</td>\n",
       "      <td>45</td>\n",
       "      <td>39948</td>\n",
       "      <td>617</td>\n",
       "      <td>Employed</td>\n",
       "      <td>Master</td>\n",
       "      <td>22</td>\n",
       "      <td>13152</td>\n",
       "      <td>48</td>\n",
       "      <td>Married</td>\n",
       "      <td>...</td>\n",
       "      <td>3329.000000</td>\n",
       "      <td>0.724972</td>\n",
       "      <td>11</td>\n",
       "      <td>126928</td>\n",
       "      <td>0.199652</td>\n",
       "      <td>0.227590</td>\n",
       "      <td>419.805992</td>\n",
       "      <td>0.181077</td>\n",
       "      <td>0</td>\n",
       "      <td>45.0</td>\n",
       "    </tr>\n",
       "    <tr>\n",
       "      <th>1</th>\n",
       "      <td>2018-01-02</td>\n",
       "      <td>38</td>\n",
       "      <td>39709</td>\n",
       "      <td>628</td>\n",
       "      <td>Employed</td>\n",
       "      <td>Associate</td>\n",
       "      <td>15</td>\n",
       "      <td>26045</td>\n",
       "      <td>48</td>\n",
       "      <td>Single</td>\n",
       "      <td>...</td>\n",
       "      <td>3309.083333</td>\n",
       "      <td>0.935132</td>\n",
       "      <td>3</td>\n",
       "      <td>43609</td>\n",
       "      <td>0.207045</td>\n",
       "      <td>0.201077</td>\n",
       "      <td>794.054238</td>\n",
       "      <td>0.389852</td>\n",
       "      <td>0</td>\n",
       "      <td>52.0</td>\n",
       "    </tr>\n",
       "  </tbody>\n",
       "</table>\n",
       "<p>2 rows × 36 columns</p>\n",
       "</div>"
      ],
      "text/plain": [
       "  ApplicationDate  Age  AnnualIncome  CreditScore EmploymentStatus  \\\n",
       "0      2018-01-01   45         39948          617         Employed   \n",
       "1      2018-01-02   38         39709          628         Employed   \n",
       "\n",
       "  EducationLevel  Experience  LoanAmount  LoanDuration MaritalStatus  ...  \\\n",
       "0         Master          22       13152            48       Married  ...   \n",
       "1      Associate          15       26045            48        Single  ...   \n",
       "\n",
       "   MonthlyIncome UtilityBillsPaymentHistory  JobTenure  NetWorth  \\\n",
       "0    3329.000000                   0.724972         11    126928   \n",
       "1    3309.083333                   0.935132          3     43609   \n",
       "\n",
       "   BaseInterestRate  InterestRate  MonthlyLoanPayment  TotalDebtToIncomeRatio  \\\n",
       "0          0.199652      0.227590          419.805992                0.181077   \n",
       "1          0.207045      0.201077          794.054238                0.389852   \n",
       "\n",
       "  LoanApproved  RiskScore  \n",
       "0            0       45.0  \n",
       "1            0       52.0  \n",
       "\n",
       "[2 rows x 36 columns]"
      ]
     },
     "execution_count": 2,
     "metadata": {},
     "output_type": "execute_result"
    },
    {
     "name": "stdout",
     "output_type": "stream",
     "text": [
      "\n",
      " ---------------------------------------------------------------------------------------------------- \n",
      "\n",
      "Summary of the data\n",
      "\n",
      "Dimension of the data: (20000, 36)\n",
      "<class 'pandas.core.frame.DataFrame'>\n",
      "RangeIndex: 20000 entries, 0 to 19999\n",
      "Data columns (total 36 columns):\n",
      " #   Column                      Non-Null Count  Dtype  \n",
      "---  ------                      --------------  -----  \n",
      " 0   ApplicationDate             20000 non-null  object \n",
      " 1   Age                         20000 non-null  int64  \n",
      " 2   AnnualIncome                20000 non-null  int64  \n",
      " 3   CreditScore                 20000 non-null  int64  \n",
      " 4   EmploymentStatus            20000 non-null  object \n",
      " 5   EducationLevel              20000 non-null  object \n",
      " 6   Experience                  20000 non-null  int64  \n",
      " 7   LoanAmount                  20000 non-null  int64  \n",
      " 8   LoanDuration                20000 non-null  int64  \n",
      " 9   MaritalStatus               20000 non-null  object \n",
      " 10  NumberOfDependents          20000 non-null  int64  \n",
      " 11  HomeOwnershipStatus         20000 non-null  object \n",
      " 12  MonthlyDebtPayments         20000 non-null  int64  \n",
      " 13  CreditCardUtilizationRate   20000 non-null  float64\n",
      " 14  NumberOfOpenCreditLines     20000 non-null  int64  \n",
      " 15  NumberOfCreditInquiries     20000 non-null  int64  \n",
      " 16  DebtToIncomeRatio           20000 non-null  float64\n",
      " 17  BankruptcyHistory           20000 non-null  int64  \n",
      " 18  LoanPurpose                 20000 non-null  object \n",
      " 19  PreviousLoanDefaults        20000 non-null  int64  \n",
      " 20  PaymentHistory              20000 non-null  int64  \n",
      " 21  LengthOfCreditHistory       20000 non-null  int64  \n",
      " 22  SavingsAccountBalance       20000 non-null  int64  \n",
      " 23  CheckingAccountBalance      20000 non-null  int64  \n",
      " 24  TotalAssets                 20000 non-null  int64  \n",
      " 25  TotalLiabilities            20000 non-null  int64  \n",
      " 26  MonthlyIncome               20000 non-null  float64\n",
      " 27  UtilityBillsPaymentHistory  20000 non-null  float64\n",
      " 28  JobTenure                   20000 non-null  int64  \n",
      " 29  NetWorth                    20000 non-null  int64  \n",
      " 30  BaseInterestRate            20000 non-null  float64\n",
      " 31  InterestRate                20000 non-null  float64\n",
      " 32  MonthlyLoanPayment          20000 non-null  float64\n",
      " 33  TotalDebtToIncomeRatio      20000 non-null  float64\n",
      " 34  LoanApproved                20000 non-null  int64  \n",
      " 35  RiskScore                   20000 non-null  float64\n",
      "dtypes: float64(9), int64(21), object(6)\n",
      "memory usage: 5.5+ MB\n",
      "\n",
      " ---------------------------------------------------------------------------------------------------- \n",
      "\n",
      "Missing values in the entire dataframe\n",
      "0\n",
      "\n",
      " ---------------------------------------------------------------------------------------------------- \n",
      "\n",
      "Statistical description:\n"
     ]
    },
    {
     "data": {
      "text/html": [
       "<div>\n",
       "<style scoped>\n",
       "    .dataframe tbody tr th:only-of-type {\n",
       "        vertical-align: middle;\n",
       "    }\n",
       "\n",
       "    .dataframe tbody tr th {\n",
       "        vertical-align: top;\n",
       "    }\n",
       "\n",
       "    .dataframe thead th {\n",
       "        text-align: right;\n",
       "    }\n",
       "</style>\n",
       "<table border=\"1\" class=\"dataframe\">\n",
       "  <thead>\n",
       "    <tr style=\"text-align: right;\">\n",
       "      <th></th>\n",
       "      <th>Age</th>\n",
       "      <th>AnnualIncome</th>\n",
       "      <th>CreditScore</th>\n",
       "      <th>Experience</th>\n",
       "      <th>LoanAmount</th>\n",
       "      <th>LoanDuration</th>\n",
       "      <th>NumberOfDependents</th>\n",
       "      <th>MonthlyDebtPayments</th>\n",
       "      <th>CreditCardUtilizationRate</th>\n",
       "      <th>NumberOfOpenCreditLines</th>\n",
       "      <th>...</th>\n",
       "      <th>MonthlyIncome</th>\n",
       "      <th>UtilityBillsPaymentHistory</th>\n",
       "      <th>JobTenure</th>\n",
       "      <th>NetWorth</th>\n",
       "      <th>BaseInterestRate</th>\n",
       "      <th>InterestRate</th>\n",
       "      <th>MonthlyLoanPayment</th>\n",
       "      <th>TotalDebtToIncomeRatio</th>\n",
       "      <th>LoanApproved</th>\n",
       "      <th>RiskScore</th>\n",
       "    </tr>\n",
       "  </thead>\n",
       "  <tbody>\n",
       "    <tr>\n",
       "      <th>count</th>\n",
       "      <td>20000.000000</td>\n",
       "      <td>20000.000000</td>\n",
       "      <td>20000.000000</td>\n",
       "      <td>20000.000000</td>\n",
       "      <td>20000.000000</td>\n",
       "      <td>20000.000000</td>\n",
       "      <td>20000.000000</td>\n",
       "      <td>20000.000000</td>\n",
       "      <td>20000.000000</td>\n",
       "      <td>20000.000000</td>\n",
       "      <td>...</td>\n",
       "      <td>20000.000000</td>\n",
       "      <td>20000.000000</td>\n",
       "      <td>20000.000000</td>\n",
       "      <td>2.000000e+04</td>\n",
       "      <td>20000.000000</td>\n",
       "      <td>20000.000000</td>\n",
       "      <td>20000.000000</td>\n",
       "      <td>20000.000000</td>\n",
       "      <td>20000.000000</td>\n",
       "      <td>20000.000000</td>\n",
       "    </tr>\n",
       "    <tr>\n",
       "      <th>mean</th>\n",
       "      <td>39.752600</td>\n",
       "      <td>59161.473550</td>\n",
       "      <td>571.612400</td>\n",
       "      <td>17.522750</td>\n",
       "      <td>24882.867800</td>\n",
       "      <td>54.057000</td>\n",
       "      <td>1.517300</td>\n",
       "      <td>454.292700</td>\n",
       "      <td>0.286381</td>\n",
       "      <td>3.023350</td>\n",
       "      <td>...</td>\n",
       "      <td>4891.715521</td>\n",
       "      <td>0.799918</td>\n",
       "      <td>5.002650</td>\n",
       "      <td>7.229432e+04</td>\n",
       "      <td>0.239124</td>\n",
       "      <td>0.239110</td>\n",
       "      <td>911.607052</td>\n",
       "      <td>0.402182</td>\n",
       "      <td>0.239000</td>\n",
       "      <td>51.695900</td>\n",
       "    </tr>\n",
       "    <tr>\n",
       "      <th>std</th>\n",
       "      <td>11.622713</td>\n",
       "      <td>40350.845168</td>\n",
       "      <td>50.997358</td>\n",
       "      <td>11.316836</td>\n",
       "      <td>13427.421217</td>\n",
       "      <td>24.664857</td>\n",
       "      <td>1.386325</td>\n",
       "      <td>240.507609</td>\n",
       "      <td>0.159793</td>\n",
       "      <td>1.736161</td>\n",
       "      <td>...</td>\n",
       "      <td>3296.771598</td>\n",
       "      <td>0.120665</td>\n",
       "      <td>2.236804</td>\n",
       "      <td>1.179200e+05</td>\n",
       "      <td>0.035509</td>\n",
       "      <td>0.042205</td>\n",
       "      <td>674.583473</td>\n",
       "      <td>0.338924</td>\n",
       "      <td>0.426483</td>\n",
       "      <td>9.053856</td>\n",
       "    </tr>\n",
       "    <tr>\n",
       "      <th>min</th>\n",
       "      <td>18.000000</td>\n",
       "      <td>15000.000000</td>\n",
       "      <td>343.000000</td>\n",
       "      <td>0.000000</td>\n",
       "      <td>3674.000000</td>\n",
       "      <td>12.000000</td>\n",
       "      <td>0.000000</td>\n",
       "      <td>50.000000</td>\n",
       "      <td>0.000974</td>\n",
       "      <td>0.000000</td>\n",
       "      <td>...</td>\n",
       "      <td>1250.000000</td>\n",
       "      <td>0.259203</td>\n",
       "      <td>0.000000</td>\n",
       "      <td>1.000000e+03</td>\n",
       "      <td>0.130101</td>\n",
       "      <td>0.113310</td>\n",
       "      <td>97.030193</td>\n",
       "      <td>0.016043</td>\n",
       "      <td>0.000000</td>\n",
       "      <td>26.400000</td>\n",
       "    </tr>\n",
       "    <tr>\n",
       "      <th>25%</th>\n",
       "      <td>32.000000</td>\n",
       "      <td>31679.000000</td>\n",
       "      <td>540.000000</td>\n",
       "      <td>9.000000</td>\n",
       "      <td>15575.000000</td>\n",
       "      <td>36.000000</td>\n",
       "      <td>0.000000</td>\n",
       "      <td>286.000000</td>\n",
       "      <td>0.160794</td>\n",
       "      <td>2.000000</td>\n",
       "      <td>...</td>\n",
       "      <td>2629.583333</td>\n",
       "      <td>0.727379</td>\n",
       "      <td>3.000000</td>\n",
       "      <td>8.734750e+03</td>\n",
       "      <td>0.213889</td>\n",
       "      <td>0.209142</td>\n",
       "      <td>493.763700</td>\n",
       "      <td>0.179693</td>\n",
       "      <td>0.000000</td>\n",
       "      <td>46.000000</td>\n",
       "    </tr>\n",
       "    <tr>\n",
       "      <th>50%</th>\n",
       "      <td>40.000000</td>\n",
       "      <td>48566.000000</td>\n",
       "      <td>578.000000</td>\n",
       "      <td>17.000000</td>\n",
       "      <td>21914.500000</td>\n",
       "      <td>48.000000</td>\n",
       "      <td>1.000000</td>\n",
       "      <td>402.000000</td>\n",
       "      <td>0.266673</td>\n",
       "      <td>3.000000</td>\n",
       "      <td>...</td>\n",
       "      <td>4034.750000</td>\n",
       "      <td>0.820962</td>\n",
       "      <td>5.000000</td>\n",
       "      <td>3.285550e+04</td>\n",
       "      <td>0.236157</td>\n",
       "      <td>0.235390</td>\n",
       "      <td>728.511452</td>\n",
       "      <td>0.302711</td>\n",
       "      <td>0.000000</td>\n",
       "      <td>53.000000</td>\n",
       "    </tr>\n",
       "    <tr>\n",
       "      <th>75%</th>\n",
       "      <td>48.000000</td>\n",
       "      <td>74391.000000</td>\n",
       "      <td>609.000000</td>\n",
       "      <td>25.000000</td>\n",
       "      <td>30835.000000</td>\n",
       "      <td>72.000000</td>\n",
       "      <td>2.000000</td>\n",
       "      <td>564.000000</td>\n",
       "      <td>0.390634</td>\n",
       "      <td>4.000000</td>\n",
       "      <td>...</td>\n",
       "      <td>6163.000000</td>\n",
       "      <td>0.892333</td>\n",
       "      <td>6.000000</td>\n",
       "      <td>8.882550e+04</td>\n",
       "      <td>0.261533</td>\n",
       "      <td>0.265532</td>\n",
       "      <td>1112.770759</td>\n",
       "      <td>0.509214</td>\n",
       "      <td>0.000000</td>\n",
       "      <td>58.000000</td>\n",
       "    </tr>\n",
       "    <tr>\n",
       "      <th>max</th>\n",
       "      <td>80.000000</td>\n",
       "      <td>485341.000000</td>\n",
       "      <td>712.000000</td>\n",
       "      <td>61.000000</td>\n",
       "      <td>184732.000000</td>\n",
       "      <td>120.000000</td>\n",
       "      <td>5.000000</td>\n",
       "      <td>2919.000000</td>\n",
       "      <td>0.917380</td>\n",
       "      <td>13.000000</td>\n",
       "      <td>...</td>\n",
       "      <td>25000.000000</td>\n",
       "      <td>0.999433</td>\n",
       "      <td>16.000000</td>\n",
       "      <td>2.603208e+06</td>\n",
       "      <td>0.405029</td>\n",
       "      <td>0.446787</td>\n",
       "      <td>10892.629520</td>\n",
       "      <td>4.647657</td>\n",
       "      <td>1.000000</td>\n",
       "      <td>82.000000</td>\n",
       "    </tr>\n",
       "  </tbody>\n",
       "</table>\n",
       "<p>8 rows × 30 columns</p>\n",
       "</div>"
      ],
      "text/plain": [
       "                Age   AnnualIncome   CreditScore    Experience     LoanAmount  \\\n",
       "count  20000.000000   20000.000000  20000.000000  20000.000000   20000.000000   \n",
       "mean      39.752600   59161.473550    571.612400     17.522750   24882.867800   \n",
       "std       11.622713   40350.845168     50.997358     11.316836   13427.421217   \n",
       "min       18.000000   15000.000000    343.000000      0.000000    3674.000000   \n",
       "25%       32.000000   31679.000000    540.000000      9.000000   15575.000000   \n",
       "50%       40.000000   48566.000000    578.000000     17.000000   21914.500000   \n",
       "75%       48.000000   74391.000000    609.000000     25.000000   30835.000000   \n",
       "max       80.000000  485341.000000    712.000000     61.000000  184732.000000   \n",
       "\n",
       "       LoanDuration  NumberOfDependents  MonthlyDebtPayments  \\\n",
       "count  20000.000000        20000.000000         20000.000000   \n",
       "mean      54.057000            1.517300           454.292700   \n",
       "std       24.664857            1.386325           240.507609   \n",
       "min       12.000000            0.000000            50.000000   \n",
       "25%       36.000000            0.000000           286.000000   \n",
       "50%       48.000000            1.000000           402.000000   \n",
       "75%       72.000000            2.000000           564.000000   \n",
       "max      120.000000            5.000000          2919.000000   \n",
       "\n",
       "       CreditCardUtilizationRate  NumberOfOpenCreditLines  ...  MonthlyIncome  \\\n",
       "count               20000.000000             20000.000000  ...   20000.000000   \n",
       "mean                    0.286381                 3.023350  ...    4891.715521   \n",
       "std                     0.159793                 1.736161  ...    3296.771598   \n",
       "min                     0.000974                 0.000000  ...    1250.000000   \n",
       "25%                     0.160794                 2.000000  ...    2629.583333   \n",
       "50%                     0.266673                 3.000000  ...    4034.750000   \n",
       "75%                     0.390634                 4.000000  ...    6163.000000   \n",
       "max                     0.917380                13.000000  ...   25000.000000   \n",
       "\n",
       "       UtilityBillsPaymentHistory     JobTenure      NetWorth  \\\n",
       "count                20000.000000  20000.000000  2.000000e+04   \n",
       "mean                     0.799918      5.002650  7.229432e+04   \n",
       "std                      0.120665      2.236804  1.179200e+05   \n",
       "min                      0.259203      0.000000  1.000000e+03   \n",
       "25%                      0.727379      3.000000  8.734750e+03   \n",
       "50%                      0.820962      5.000000  3.285550e+04   \n",
       "75%                      0.892333      6.000000  8.882550e+04   \n",
       "max                      0.999433     16.000000  2.603208e+06   \n",
       "\n",
       "       BaseInterestRate  InterestRate  MonthlyLoanPayment  \\\n",
       "count      20000.000000  20000.000000        20000.000000   \n",
       "mean           0.239124      0.239110          911.607052   \n",
       "std            0.035509      0.042205          674.583473   \n",
       "min            0.130101      0.113310           97.030193   \n",
       "25%            0.213889      0.209142          493.763700   \n",
       "50%            0.236157      0.235390          728.511452   \n",
       "75%            0.261533      0.265532         1112.770759   \n",
       "max            0.405029      0.446787        10892.629520   \n",
       "\n",
       "       TotalDebtToIncomeRatio  LoanApproved     RiskScore  \n",
       "count            20000.000000  20000.000000  20000.000000  \n",
       "mean                 0.402182      0.239000     51.695900  \n",
       "std                  0.338924      0.426483      9.053856  \n",
       "min                  0.016043      0.000000     26.400000  \n",
       "25%                  0.179693      0.000000     46.000000  \n",
       "50%                  0.302711      0.000000     53.000000  \n",
       "75%                  0.509214      0.000000     58.000000  \n",
       "max                  4.647657      1.000000     82.000000  \n",
       "\n",
       "[8 rows x 30 columns]"
      ]
     },
     "execution_count": 2,
     "metadata": {},
     "output_type": "execute_result"
    }
   ],
   "source": [
    "fp = \"/Users/Shared/Doc/apps/AI/NTUC/VLC-SCAI012-24-0652/Loan/\"\n",
    "dataurl = fp + \"Loan2.csv\"\n",
    "df_orig = pd.read_csv(dataurl)\n",
    "df_orig.head(2)\n",
    "\n",
    "print(\"\\n\", \"--\" * 50, \"\\n\")\n",
    "print(\"Summary of the data\\n\")\n",
    "print(\"Dimension of the data:\", df_orig.shape)\n",
    "df_orig.info()\n",
    "\n",
    "print(\"\\n\", \"--\" * 50, \"\\n\")\n",
    "print(\"Missing values in the entire dataframe\")\n",
    "print(df_orig.isnull().sum().sum())\n",
    "\n",
    "print(\"\\n\", \"--\" * 50, \"\\n\")\n",
    "print(\"Statistical description:\")\n",
    "df_orig.describe()"
   ]
  },
  {
   "cell_type": "code",
   "execution_count": 3,
   "metadata": {},
   "outputs": [
    {
     "data": {
      "text/html": [
       "<div>\n",
       "<style scoped>\n",
       "    .dataframe tbody tr th:only-of-type {\n",
       "        vertical-align: middle;\n",
       "    }\n",
       "\n",
       "    .dataframe tbody tr th {\n",
       "        vertical-align: top;\n",
       "    }\n",
       "\n",
       "    .dataframe thead th {\n",
       "        text-align: right;\n",
       "    }\n",
       "</style>\n",
       "<table border=\"1\" class=\"dataframe\">\n",
       "  <thead>\n",
       "    <tr style=\"text-align: right;\">\n",
       "      <th></th>\n",
       "      <th>EmploymentStatus</th>\n",
       "      <th>EducationLevel</th>\n",
       "      <th>MaritalStatus</th>\n",
       "      <th>HomeOwnershipStatus</th>\n",
       "      <th>LoanPurpose</th>\n",
       "    </tr>\n",
       "  </thead>\n",
       "  <tbody>\n",
       "    <tr>\n",
       "      <th>0</th>\n",
       "      <td>Employed</td>\n",
       "      <td>Master</td>\n",
       "      <td>Married</td>\n",
       "      <td>Own</td>\n",
       "      <td>Home</td>\n",
       "    </tr>\n",
       "    <tr>\n",
       "      <th>1</th>\n",
       "      <td>Employed</td>\n",
       "      <td>Associate</td>\n",
       "      <td>Single</td>\n",
       "      <td>Mortgage</td>\n",
       "      <td>Debt Consolidation</td>\n",
       "    </tr>\n",
       "  </tbody>\n",
       "</table>\n",
       "</div>"
      ],
      "text/plain": [
       "  EmploymentStatus EducationLevel MaritalStatus HomeOwnershipStatus  \\\n",
       "0         Employed         Master       Married                 Own   \n",
       "1         Employed      Associate        Single            Mortgage   \n",
       "\n",
       "          LoanPurpose  \n",
       "0                Home  \n",
       "1  Debt Consolidation  "
      ]
     },
     "execution_count": 3,
     "metadata": {},
     "output_type": "execute_result"
    },
    {
     "data": {
      "text/html": [
       "<div>\n",
       "<style scoped>\n",
       "    .dataframe tbody tr th:only-of-type {\n",
       "        vertical-align: middle;\n",
       "    }\n",
       "\n",
       "    .dataframe tbody tr th {\n",
       "        vertical-align: top;\n",
       "    }\n",
       "\n",
       "    .dataframe thead th {\n",
       "        text-align: right;\n",
       "    }\n",
       "</style>\n",
       "<table border=\"1\" class=\"dataframe\">\n",
       "  <thead>\n",
       "    <tr style=\"text-align: right;\">\n",
       "      <th></th>\n",
       "      <th>PreviousLoanDefaults</th>\n",
       "      <th>BankruptcyHistory</th>\n",
       "    </tr>\n",
       "  </thead>\n",
       "  <tbody>\n",
       "    <tr>\n",
       "      <th>0</th>\n",
       "      <td>0</td>\n",
       "      <td>0</td>\n",
       "    </tr>\n",
       "    <tr>\n",
       "      <th>1</th>\n",
       "      <td>0</td>\n",
       "      <td>0</td>\n",
       "    </tr>\n",
       "  </tbody>\n",
       "</table>\n",
       "</div>"
      ],
      "text/plain": [
       "   PreviousLoanDefaults  BankruptcyHistory\n",
       "0                     0                  0\n",
       "1                     0                  0"
      ]
     },
     "execution_count": 3,
     "metadata": {},
     "output_type": "execute_result"
    },
    {
     "data": {
      "text/html": [
       "<div>\n",
       "<style scoped>\n",
       "    .dataframe tbody tr th:only-of-type {\n",
       "        vertical-align: middle;\n",
       "    }\n",
       "\n",
       "    .dataframe tbody tr th {\n",
       "        vertical-align: top;\n",
       "    }\n",
       "\n",
       "    .dataframe thead th {\n",
       "        text-align: right;\n",
       "    }\n",
       "</style>\n",
       "<table border=\"1\" class=\"dataframe\">\n",
       "  <thead>\n",
       "    <tr style=\"text-align: right;\">\n",
       "      <th></th>\n",
       "      <th>Age</th>\n",
       "      <th>Experience</th>\n",
       "      <th>JobTenure</th>\n",
       "      <th>NumberOfDependents</th>\n",
       "      <th>NumberOfOpenCreditLines</th>\n",
       "      <th>NumberOfCreditInquiries</th>\n",
       "    </tr>\n",
       "  </thead>\n",
       "  <tbody>\n",
       "    <tr>\n",
       "      <th>0</th>\n",
       "      <td>45</td>\n",
       "      <td>22</td>\n",
       "      <td>11</td>\n",
       "      <td>2</td>\n",
       "      <td>1</td>\n",
       "      <td>2</td>\n",
       "    </tr>\n",
       "    <tr>\n",
       "      <th>1</th>\n",
       "      <td>38</td>\n",
       "      <td>15</td>\n",
       "      <td>3</td>\n",
       "      <td>1</td>\n",
       "      <td>5</td>\n",
       "      <td>3</td>\n",
       "    </tr>\n",
       "  </tbody>\n",
       "</table>\n",
       "</div>"
      ],
      "text/plain": [
       "   Age  Experience  JobTenure  NumberOfDependents  NumberOfOpenCreditLines  \\\n",
       "0   45          22         11                   2                        1   \n",
       "1   38          15          3                   1                        5   \n",
       "\n",
       "   NumberOfCreditInquiries  \n",
       "0                        2  \n",
       "1                        3  "
      ]
     },
     "execution_count": 3,
     "metadata": {},
     "output_type": "execute_result"
    },
    {
     "data": {
      "text/html": [
       "<div>\n",
       "<style scoped>\n",
       "    .dataframe tbody tr th:only-of-type {\n",
       "        vertical-align: middle;\n",
       "    }\n",
       "\n",
       "    .dataframe tbody tr th {\n",
       "        vertical-align: top;\n",
       "    }\n",
       "\n",
       "    .dataframe thead th {\n",
       "        text-align: right;\n",
       "    }\n",
       "</style>\n",
       "<table border=\"1\" class=\"dataframe\">\n",
       "  <thead>\n",
       "    <tr style=\"text-align: right;\">\n",
       "      <th></th>\n",
       "      <th>AnnualIncome</th>\n",
       "      <th>MonthlyDebtPayments</th>\n",
       "      <th>CreditCardUtilizationRate</th>\n",
       "      <th>SavingsAccountBalance</th>\n",
       "      <th>CheckingAccountBalance</th>\n",
       "      <th>TotalAssets</th>\n",
       "      <th>TotalLiabilities</th>\n",
       "      <th>LengthOfCreditHistory</th>\n",
       "    </tr>\n",
       "  </thead>\n",
       "  <tbody>\n",
       "    <tr>\n",
       "      <th>0</th>\n",
       "      <td>39948</td>\n",
       "      <td>183</td>\n",
       "      <td>0.354418</td>\n",
       "      <td>7632</td>\n",
       "      <td>1202</td>\n",
       "      <td>146111</td>\n",
       "      <td>19183</td>\n",
       "      <td>9</td>\n",
       "    </tr>\n",
       "    <tr>\n",
       "      <th>1</th>\n",
       "      <td>39709</td>\n",
       "      <td>496</td>\n",
       "      <td>0.087827</td>\n",
       "      <td>4627</td>\n",
       "      <td>3460</td>\n",
       "      <td>53204</td>\n",
       "      <td>9595</td>\n",
       "      <td>9</td>\n",
       "    </tr>\n",
       "  </tbody>\n",
       "</table>\n",
       "</div>"
      ],
      "text/plain": [
       "   AnnualIncome  MonthlyDebtPayments  CreditCardUtilizationRate  \\\n",
       "0         39948                  183                   0.354418   \n",
       "1         39709                  496                   0.087827   \n",
       "\n",
       "   SavingsAccountBalance  CheckingAccountBalance  TotalAssets  \\\n",
       "0                   7632                    1202       146111   \n",
       "1                   4627                    3460        53204   \n",
       "\n",
       "   TotalLiabilities  LengthOfCreditHistory  \n",
       "0             19183                      9  \n",
       "1              9595                      9  "
      ]
     },
     "execution_count": 3,
     "metadata": {},
     "output_type": "execute_result"
    },
    {
     "data": {
      "text/html": [
       "<div>\n",
       "<style scoped>\n",
       "    .dataframe tbody tr th:only-of-type {\n",
       "        vertical-align: middle;\n",
       "    }\n",
       "\n",
       "    .dataframe tbody tr th {\n",
       "        vertical-align: top;\n",
       "    }\n",
       "\n",
       "    .dataframe thead th {\n",
       "        text-align: right;\n",
       "    }\n",
       "</style>\n",
       "<table border=\"1\" class=\"dataframe\">\n",
       "  <thead>\n",
       "    <tr style=\"text-align: right;\">\n",
       "      <th></th>\n",
       "      <th>MonthlyIncome</th>\n",
       "      <th>NetWorth</th>\n",
       "      <th>TotalDebtToIncomeRatio</th>\n",
       "    </tr>\n",
       "  </thead>\n",
       "  <tbody>\n",
       "    <tr>\n",
       "      <th>0</th>\n",
       "      <td>3329.000000</td>\n",
       "      <td>126928</td>\n",
       "      <td>0.181077</td>\n",
       "    </tr>\n",
       "    <tr>\n",
       "      <th>1</th>\n",
       "      <td>3309.083333</td>\n",
       "      <td>43609</td>\n",
       "      <td>0.389852</td>\n",
       "    </tr>\n",
       "  </tbody>\n",
       "</table>\n",
       "</div>"
      ],
      "text/plain": [
       "   MonthlyIncome  NetWorth  TotalDebtToIncomeRatio\n",
       "0    3329.000000    126928                0.181077\n",
       "1    3309.083333     43609                0.389852"
      ]
     },
     "execution_count": 3,
     "metadata": {},
     "output_type": "execute_result"
    },
    {
     "data": {
      "text/html": [
       "<div>\n",
       "<style scoped>\n",
       "    .dataframe tbody tr th:only-of-type {\n",
       "        vertical-align: middle;\n",
       "    }\n",
       "\n",
       "    .dataframe tbody tr th {\n",
       "        vertical-align: top;\n",
       "    }\n",
       "\n",
       "    .dataframe thead th {\n",
       "        text-align: right;\n",
       "    }\n",
       "</style>\n",
       "<table border=\"1\" class=\"dataframe\">\n",
       "  <thead>\n",
       "    <tr style=\"text-align: right;\">\n",
       "      <th></th>\n",
       "      <th>LoanAmount</th>\n",
       "      <th>LoanDuration</th>\n",
       "      <th>BaseInterestRate</th>\n",
       "      <th>InterestRate</th>\n",
       "      <th>MonthlyLoanPayment</th>\n",
       "    </tr>\n",
       "  </thead>\n",
       "  <tbody>\n",
       "    <tr>\n",
       "      <th>0</th>\n",
       "      <td>13152</td>\n",
       "      <td>48</td>\n",
       "      <td>0.199652</td>\n",
       "      <td>0.227590</td>\n",
       "      <td>419.805992</td>\n",
       "    </tr>\n",
       "    <tr>\n",
       "      <th>1</th>\n",
       "      <td>26045</td>\n",
       "      <td>48</td>\n",
       "      <td>0.207045</td>\n",
       "      <td>0.201077</td>\n",
       "      <td>794.054238</td>\n",
       "    </tr>\n",
       "  </tbody>\n",
       "</table>\n",
       "</div>"
      ],
      "text/plain": [
       "   LoanAmount  LoanDuration  BaseInterestRate  InterestRate  \\\n",
       "0       13152            48          0.199652      0.227590   \n",
       "1       26045            48          0.207045      0.201077   \n",
       "\n",
       "   MonthlyLoanPayment  \n",
       "0          419.805992  \n",
       "1          794.054238  "
      ]
     },
     "execution_count": 3,
     "metadata": {},
     "output_type": "execute_result"
    },
    {
     "data": {
      "text/html": [
       "<div>\n",
       "<style scoped>\n",
       "    .dataframe tbody tr th:only-of-type {\n",
       "        vertical-align: middle;\n",
       "    }\n",
       "\n",
       "    .dataframe tbody tr th {\n",
       "        vertical-align: top;\n",
       "    }\n",
       "\n",
       "    .dataframe thead th {\n",
       "        text-align: right;\n",
       "    }\n",
       "</style>\n",
       "<table border=\"1\" class=\"dataframe\">\n",
       "  <thead>\n",
       "    <tr style=\"text-align: right;\">\n",
       "      <th></th>\n",
       "      <th>LoanApproved</th>\n",
       "      <th>CreditScore</th>\n",
       "      <th>RiskScore</th>\n",
       "    </tr>\n",
       "  </thead>\n",
       "  <tbody>\n",
       "    <tr>\n",
       "      <th>0</th>\n",
       "      <td>0</td>\n",
       "      <td>617</td>\n",
       "      <td>45.0</td>\n",
       "    </tr>\n",
       "    <tr>\n",
       "      <th>1</th>\n",
       "      <td>0</td>\n",
       "      <td>628</td>\n",
       "      <td>52.0</td>\n",
       "    </tr>\n",
       "  </tbody>\n",
       "</table>\n",
       "</div>"
      ],
      "text/plain": [
       "   LoanApproved  CreditScore  RiskScore\n",
       "0             0          617       45.0\n",
       "1             0          628       52.0"
      ]
     },
     "execution_count": 3,
     "metadata": {},
     "output_type": "execute_result"
    },
    {
     "data": {
      "text/html": [
       "<div>\n",
       "<style scoped>\n",
       "    .dataframe tbody tr th:only-of-type {\n",
       "        vertical-align: middle;\n",
       "    }\n",
       "\n",
       "    .dataframe tbody tr th {\n",
       "        vertical-align: top;\n",
       "    }\n",
       "\n",
       "    .dataframe thead th {\n",
       "        text-align: right;\n",
       "    }\n",
       "</style>\n",
       "<table border=\"1\" class=\"dataframe\">\n",
       "  <thead>\n",
       "    <tr style=\"text-align: right;\">\n",
       "      <th></th>\n",
       "      <th>PaymentHistory</th>\n",
       "      <th>DebtToIncomeRatio</th>\n",
       "      <th>UtilityBillsPaymentHistory</th>\n",
       "    </tr>\n",
       "  </thead>\n",
       "  <tbody>\n",
       "    <tr>\n",
       "      <th>0</th>\n",
       "      <td>29</td>\n",
       "      <td>0.358336</td>\n",
       "      <td>0.724972</td>\n",
       "    </tr>\n",
       "    <tr>\n",
       "      <th>1</th>\n",
       "      <td>21</td>\n",
       "      <td>0.330274</td>\n",
       "      <td>0.935132</td>\n",
       "    </tr>\n",
       "  </tbody>\n",
       "</table>\n",
       "</div>"
      ],
      "text/plain": [
       "   PaymentHistory  DebtToIncomeRatio  UtilityBillsPaymentHistory\n",
       "0              29           0.358336                    0.724972\n",
       "1              21           0.330274                    0.935132"
      ]
     },
     "execution_count": 3,
     "metadata": {},
     "output_type": "execute_result"
    },
    {
     "name": "stdout",
     "output_type": "stream",
     "text": [
      "36\n",
      "31\n"
     ]
    }
   ],
   "source": [
    "# to categorize all the fields\n",
    "\n",
    "# Object Feature Fields\n",
    "FeatureFieldO = [\"EmploymentStatus\", \"EducationLevel\", \"MaritalStatus\", \"HomeOwnershipStatus\", \"LoanPurpose\", ]\n",
    "df_orig[FeatureFieldO].head(2)\n",
    "\n",
    "# Binary/Bool Feature Fields\n",
    "FeatureFieldB = [\"PreviousLoanDefaults\", \"BankruptcyHistory\", ]\n",
    "df_orig[FeatureFieldB].head(2)\n",
    "\n",
    "# Number Feature Fields\n",
    "FeatureFieldN = [\"Age\", \"Experience\", \"JobTenure\", \"NumberOfDependents\", \"NumberOfOpenCreditLines\", \"NumberOfCreditInquiries\", ]\n",
    "df_orig[FeatureFieldN].head(2)\n",
    "\n",
    "# All Feature Fields\n",
    "FeatureFields = FeatureFieldO + FeatureFieldB + FeatureFieldN\n",
    "\n",
    "# Amount Feature Fields\n",
    "NumberFields = [\"AnnualIncome\", \"MonthlyDebtPayments\", \"CreditCardUtilizationRate\", \"SavingsAccountBalance\", \"CheckingAccountBalance\", \"TotalAssets\", \"TotalLiabilities\", \"LengthOfCreditHistory\", ]\n",
    "df_orig[NumberFields].head(2)\n",
    "\n",
    "# Calculated Amount Fields\n",
    "CalcFields = [\"MonthlyIncome\", \"NetWorth\", \"TotalDebtToIncomeRatio\", ]\n",
    "df_orig[CalcFields].head(2)\n",
    "# Source Fields used to Calculate above Amount Fields, it can be dropped if use Calculated Field to train\n",
    "CalcFieldsS = [\"AnnualIncome\", \"TotalAssets\", \"TotalLiabilities\", \"MonthlyDebtPayments\", \"MonthlyLoanPayment\", ]\n",
    "\n",
    "# Application Fields\n",
    "ApplicationFields = [\"LoanAmount\", \"LoanDuration\", \"BaseInterestRate\", \"InterestRate\", \"MonthlyLoanPayment\", ]\n",
    "df_orig[ApplicationFields].head(2)\n",
    "\n",
    "# Output Fields\n",
    "OutputFields = [\"LoanApproved\", \"CreditScore\", \"RiskScore\", ]\n",
    "df_orig[OutputFields].head(2)\n",
    "\n",
    "# Unknown Fields, not sure the definition, unit or usage. don't consider them in model training at the moment\n",
    "# PaymentHistory in manual algorithm, logic is inconsistent, value doesn't cause different cross all data. so no impact any all, can be ignored\n",
    "# DebtToIncomeRatio in manual algorithm, logic is inconsistent, it should be same as TotalDebtToIncomeRatio, modified generation code to replace it with TotalDebtToIncomeRatio\n",
    "# UtilityBillsPaymentHistory is not used in manual algorithm, can be ignored\n",
    "UnknownFields = [\"PaymentHistory\", \"DebtToIncomeRatio\", \"UtilityBillsPaymentHistory\", ]\n",
    "df_orig[UnknownFields].head(2)\n",
    "\n",
    "# to verify total number of fields\n",
    "print(len(df_orig.columns))\n",
    "print(1 + len(FeatureFields) + len(NumberFields) + len(OutputFields) + len(CalcFields) + len(UnknownFields))\n"
   ]
  },
  {
   "cell_type": "code",
   "execution_count": 4,
   "metadata": {},
   "outputs": [
    {
     "data": {
      "text/plain": [
       "EmploymentStatus\n",
       "Employed         17036\n",
       "Self-Employed     1573\n",
       "Unemployed        1391\n",
       "Name: count, dtype: int64"
      ]
     },
     "execution_count": 4,
     "metadata": {},
     "output_type": "execute_result"
    },
    {
     "data": {
      "text/plain": [
       "EducationLevel\n",
       "Bachelor       6054\n",
       "High School    5908\n",
       "Associate      4034\n",
       "Master         3050\n",
       "Doctorate       954\n",
       "Name: count, dtype: int64"
      ]
     },
     "execution_count": 4,
     "metadata": {},
     "output_type": "execute_result"
    },
    {
     "data": {
      "text/plain": [
       "MaritalStatus\n",
       "Married     10041\n",
       "Single       6078\n",
       "Divorced     2882\n",
       "Widowed       999\n",
       "Name: count, dtype: int64"
      ]
     },
     "execution_count": 4,
     "metadata": {},
     "output_type": "execute_result"
    },
    {
     "data": {
      "text/plain": [
       "HomeOwnershipStatus\n",
       "Mortgage    7939\n",
       "Rent        6087\n",
       "Own         3938\n",
       "Other       2036\n",
       "Name: count, dtype: int64"
      ]
     },
     "execution_count": 4,
     "metadata": {},
     "output_type": "execute_result"
    },
    {
     "data": {
      "text/plain": [
       "LoanPurpose\n",
       "Home                  5925\n",
       "Debt Consolidation    5027\n",
       "Auto                  4034\n",
       "Education             3008\n",
       "Other                 2006\n",
       "Name: count, dtype: int64"
      ]
     },
     "execution_count": 4,
     "metadata": {},
     "output_type": "execute_result"
    },
    {
     "data": {
      "text/plain": [
       "Age\n",
       "18    803\n",
       "40    715\n",
       "39    682\n",
       "42    676\n",
       "37    669\n",
       "     ... \n",
       "80      8\n",
       "74      8\n",
       "76      4\n",
       "78      3\n",
       "79      3\n",
       "Name: count, Length: 63, dtype: int64"
      ]
     },
     "execution_count": 4,
     "metadata": {},
     "output_type": "execute_result"
    },
    {
     "data": {
      "text/plain": [
       "Experience\n",
       "0     1706\n",
       "18     722\n",
       "15     666\n",
       "16     654\n",
       "13     641\n",
       "      ... \n",
       "56       5\n",
       "58       4\n",
       "61       1\n",
       "59       1\n",
       "60       1\n",
       "Name: count, Length: 62, dtype: int64"
      ]
     },
     "execution_count": 4,
     "metadata": {},
     "output_type": "execute_result"
    },
    {
     "data": {
      "text/plain": [
       "JobTenure\n",
       "4     3609\n",
       "5     3528\n",
       "6     2835\n",
       "3     2759\n",
       "7     2098\n",
       "2     1675\n",
       "8     1279\n",
       "9      770\n",
       "1      652\n",
       "10     392\n",
       "0      152\n",
       "11     146\n",
       "12      66\n",
       "13      28\n",
       "14       8\n",
       "15       2\n",
       "16       1\n",
       "Name: count, dtype: int64"
      ]
     },
     "execution_count": 4,
     "metadata": {},
     "output_type": "execute_result"
    },
    {
     "data": {
      "text/plain": [
       "NumberOfDependents\n",
       "0    6074\n",
       "1    5027\n",
       "2    3916\n",
       "3    3033\n",
       "4    1362\n",
       "5     588\n",
       "Name: count, dtype: int64"
      ]
     },
     "execution_count": 4,
     "metadata": {},
     "output_type": "execute_result"
    },
    {
     "data": {
      "text/plain": [
       "NumberOfOpenCreditLines\n",
       "3     4571\n",
       "2     4483\n",
       "4     3354\n",
       "1     2945\n",
       "5     1930\n",
       "6     1079\n",
       "0      932\n",
       "7      457\n",
       "8      168\n",
       "9       59\n",
       "10      16\n",
       "11       4\n",
       "13       1\n",
       "12       1\n",
       "Name: count, dtype: int64"
      ]
     },
     "execution_count": 4,
     "metadata": {},
     "output_type": "execute_result"
    },
    {
     "data": {
      "text/plain": [
       "NumberOfCreditInquiries\n",
       "1    7506\n",
       "0    7299\n",
       "2    3666\n",
       "3    1185\n",
       "4     272\n",
       "5      56\n",
       "6      13\n",
       "7       3\n",
       "Name: count, dtype: int64"
      ]
     },
     "execution_count": 4,
     "metadata": {},
     "output_type": "execute_result"
    }
   ],
   "source": [
    "# to get distinct value for Feature Fields\n",
    "for f in FeatureFieldO:\n",
    "    df_orig[f].value_counts()\n",
    "    \n",
    "for f in FeatureFieldN:\n",
    "    df_orig[f].value_counts()\n"
   ]
  },
  {
   "cell_type": "markdown",
   "metadata": {},
   "source": [
    "## Pre-process\n",
    "\n",
    "To pre-process data before model training"
   ]
  },
  {
   "cell_type": "markdown",
   "metadata": {},
   "source": [
    "### Standardize data\n",
    "\n",
    "To make the data consistent"
   ]
  },
  {
   "cell_type": "code",
   "execution_count": 5,
   "metadata": {},
   "outputs": [
    {
     "data": {
      "text/plain": [
       "['EmploymentStatus_Employed',\n",
       " 'EmploymentStatus_Self-Employed',\n",
       " 'EmploymentStatus_Unemployed',\n",
       " 'EducationLevel_Associate',\n",
       " 'EducationLevel_Bachelor',\n",
       " 'EducationLevel_Doctorate',\n",
       " 'EducationLevel_High School',\n",
       " 'EducationLevel_Master',\n",
       " 'MaritalStatus_Divorced',\n",
       " 'MaritalStatus_Married',\n",
       " 'MaritalStatus_Single',\n",
       " 'MaritalStatus_Widowed',\n",
       " 'HomeOwnershipStatus_Mortgage',\n",
       " 'HomeOwnershipStatus_Other',\n",
       " 'HomeOwnershipStatus_Own',\n",
       " 'HomeOwnershipStatus_Rent',\n",
       " 'LoanPurpose_Auto',\n",
       " 'LoanPurpose_Debt Consolidation',\n",
       " 'LoanPurpose_Education',\n",
       " 'LoanPurpose_Home',\n",
       " 'LoanPurpose_Other']"
      ]
     },
     "execution_count": 5,
     "metadata": {},
     "output_type": "execute_result"
    },
    {
     "data": {
      "text/plain": [
       "['EmploymentStatus_Fac',\n",
       " 'EducationLevel_Fac',\n",
       " 'MaritalStatus_Fac',\n",
       " 'HomeOwnershipStatus_Fac',\n",
       " 'LoanPurpose_Fac']"
      ]
     },
     "execution_count": 5,
     "metadata": {},
     "output_type": "execute_result"
    },
    {
     "data": {
      "text/html": [
       "<div>\n",
       "<style scoped>\n",
       "    .dataframe tbody tr th:only-of-type {\n",
       "        vertical-align: middle;\n",
       "    }\n",
       "\n",
       "    .dataframe tbody tr th {\n",
       "        vertical-align: top;\n",
       "    }\n",
       "\n",
       "    .dataframe thead th {\n",
       "        text-align: right;\n",
       "    }\n",
       "</style>\n",
       "<table border=\"1\" class=\"dataframe\">\n",
       "  <thead>\n",
       "    <tr style=\"text-align: right;\">\n",
       "      <th></th>\n",
       "      <th>Age</th>\n",
       "      <th>AnnualIncome</th>\n",
       "      <th>CreditScore</th>\n",
       "      <th>EmploymentStatus</th>\n",
       "      <th>EducationLevel</th>\n",
       "      <th>Experience</th>\n",
       "      <th>LoanAmount</th>\n",
       "      <th>LoanDuration</th>\n",
       "      <th>MaritalStatus</th>\n",
       "      <th>NumberOfDependents</th>\n",
       "      <th>...</th>\n",
       "      <th>NumberOfOpenCreditLines_Bins_(-0.0, 3.0]</th>\n",
       "      <th>NumberOfOpenCreditLines_Bins_(3.0, 5.0]</th>\n",
       "      <th>NumberOfOpenCreditLines_Bins_(5.0, 8.0]</th>\n",
       "      <th>NumberOfOpenCreditLines_Bins_(8.0, 10.0]</th>\n",
       "      <th>NumberOfOpenCreditLines_Bins_(10.0, 13.0]</th>\n",
       "      <th>NumberOfCreditInquiries_Bins_(-0.01, 1.0]</th>\n",
       "      <th>NumberOfCreditInquiries_Bins_(1.0, 3.0]</th>\n",
       "      <th>NumberOfCreditInquiries_Bins_(3.0, 4.0]</th>\n",
       "      <th>NumberOfCreditInquiries_Bins_(4.0, 6.0]</th>\n",
       "      <th>NumberOfCreditInquiries_Bins_(6.0, 7.0]</th>\n",
       "    </tr>\n",
       "  </thead>\n",
       "  <tbody>\n",
       "    <tr>\n",
       "      <th>0</th>\n",
       "      <td>45.0</td>\n",
       "      <td>39948.0</td>\n",
       "      <td>617.0</td>\n",
       "      <td>Employed</td>\n",
       "      <td>Master</td>\n",
       "      <td>22.0</td>\n",
       "      <td>13152.0</td>\n",
       "      <td>48.0</td>\n",
       "      <td>Married</td>\n",
       "      <td>2.0</td>\n",
       "      <td>...</td>\n",
       "      <td>True</td>\n",
       "      <td>False</td>\n",
       "      <td>False</td>\n",
       "      <td>False</td>\n",
       "      <td>False</td>\n",
       "      <td>False</td>\n",
       "      <td>True</td>\n",
       "      <td>False</td>\n",
       "      <td>False</td>\n",
       "      <td>False</td>\n",
       "    </tr>\n",
       "    <tr>\n",
       "      <th>1</th>\n",
       "      <td>38.0</td>\n",
       "      <td>39709.0</td>\n",
       "      <td>628.0</td>\n",
       "      <td>Employed</td>\n",
       "      <td>Associate</td>\n",
       "      <td>15.0</td>\n",
       "      <td>26045.0</td>\n",
       "      <td>48.0</td>\n",
       "      <td>Single</td>\n",
       "      <td>1.0</td>\n",
       "      <td>...</td>\n",
       "      <td>False</td>\n",
       "      <td>True</td>\n",
       "      <td>False</td>\n",
       "      <td>False</td>\n",
       "      <td>False</td>\n",
       "      <td>False</td>\n",
       "      <td>False</td>\n",
       "      <td>True</td>\n",
       "      <td>False</td>\n",
       "      <td>False</td>\n",
       "    </tr>\n",
       "  </tbody>\n",
       "</table>\n",
       "<p>2 rows × 91 columns</p>\n",
       "</div>"
      ],
      "text/plain": [
       "    Age  AnnualIncome  CreditScore EmploymentStatus EducationLevel  \\\n",
       "0  45.0       39948.0        617.0         Employed         Master   \n",
       "1  38.0       39709.0        628.0         Employed      Associate   \n",
       "\n",
       "   Experience  LoanAmount  LoanDuration MaritalStatus  NumberOfDependents  \\\n",
       "0        22.0     13152.0          48.0       Married                 2.0   \n",
       "1        15.0     26045.0          48.0        Single                 1.0   \n",
       "\n",
       "   ... NumberOfOpenCreditLines_Bins_(-0.0, 3.0]  \\\n",
       "0  ...                                     True   \n",
       "1  ...                                    False   \n",
       "\n",
       "   NumberOfOpenCreditLines_Bins_(3.0, 5.0]  \\\n",
       "0                                    False   \n",
       "1                                     True   \n",
       "\n",
       "   NumberOfOpenCreditLines_Bins_(5.0, 8.0]  \\\n",
       "0                                    False   \n",
       "1                                    False   \n",
       "\n",
       "   NumberOfOpenCreditLines_Bins_(8.0, 10.0]  \\\n",
       "0                                     False   \n",
       "1                                     False   \n",
       "\n",
       "   NumberOfOpenCreditLines_Bins_(10.0, 13.0]  \\\n",
       "0                                      False   \n",
       "1                                      False   \n",
       "\n",
       "   NumberOfCreditInquiries_Bins_(-0.01, 1.0]  \\\n",
       "0                                      False   \n",
       "1                                      False   \n",
       "\n",
       "   NumberOfCreditInquiries_Bins_(1.0, 3.0]  \\\n",
       "0                                     True   \n",
       "1                                    False   \n",
       "\n",
       "  NumberOfCreditInquiries_Bins_(3.0, 4.0]  \\\n",
       "0                                   False   \n",
       "1                                    True   \n",
       "\n",
       "   NumberOfCreditInquiries_Bins_(4.0, 6.0]  \\\n",
       "0                                    False   \n",
       "1                                    False   \n",
       "\n",
       "   NumberOfCreditInquiries_Bins_(6.0, 7.0]  \n",
       "0                                    False  \n",
       "1                                    False  \n",
       "\n",
       "[2 rows x 91 columns]"
      ]
     },
     "execution_count": 5,
     "metadata": {},
     "output_type": "execute_result"
    },
    {
     "name": "stdout",
     "output_type": "stream",
     "text": [
      "<class 'pandas.core.frame.DataFrame'>\n",
      "RangeIndex: 20000 entries, 0 to 19999\n",
      "Data columns (total 91 columns):\n",
      " #   Column                                     Non-Null Count  Dtype  \n",
      "---  ------                                     --------------  -----  \n",
      " 0   Age                                        20000 non-null  float64\n",
      " 1   AnnualIncome                               20000 non-null  float64\n",
      " 2   CreditScore                                20000 non-null  float64\n",
      " 3   EmploymentStatus                           20000 non-null  object \n",
      " 4   EducationLevel                             20000 non-null  object \n",
      " 5   Experience                                 20000 non-null  float64\n",
      " 6   LoanAmount                                 20000 non-null  float64\n",
      " 7   LoanDuration                               20000 non-null  float64\n",
      " 8   MaritalStatus                              20000 non-null  object \n",
      " 9   NumberOfDependents                         20000 non-null  float64\n",
      " 10  HomeOwnershipStatus                        20000 non-null  object \n",
      " 11  MonthlyDebtPayments                        20000 non-null  float64\n",
      " 12  CreditCardUtilizationRate                  20000 non-null  float64\n",
      " 13  NumberOfOpenCreditLines                    20000 non-null  float64\n",
      " 14  NumberOfCreditInquiries                    20000 non-null  float64\n",
      " 15  DebtToIncomeRatio                          20000 non-null  float64\n",
      " 16  BankruptcyHistory                          20000 non-null  bool   \n",
      " 17  LoanPurpose                                20000 non-null  object \n",
      " 18  PreviousLoanDefaults                       20000 non-null  bool   \n",
      " 19  PaymentHistory                             20000 non-null  float64\n",
      " 20  LengthOfCreditHistory                      20000 non-null  float64\n",
      " 21  SavingsAccountBalance                      20000 non-null  float64\n",
      " 22  CheckingAccountBalance                     20000 non-null  float64\n",
      " 23  TotalAssets                                20000 non-null  float64\n",
      " 24  TotalLiabilities                           20000 non-null  float64\n",
      " 25  MonthlyIncome                              20000 non-null  float64\n",
      " 26  UtilityBillsPaymentHistory                 20000 non-null  float64\n",
      " 27  JobTenure                                  20000 non-null  float64\n",
      " 28  NetWorth                                   20000 non-null  float64\n",
      " 29  BaseInterestRate                           20000 non-null  float64\n",
      " 30  InterestRate                               20000 non-null  float64\n",
      " 31  MonthlyLoanPayment                         20000 non-null  float64\n",
      " 32  TotalDebtToIncomeRatio                     20000 non-null  float64\n",
      " 33  LoanApproved                               20000 non-null  bool   \n",
      " 34  RiskScore                                  20000 non-null  float64\n",
      " 35  EmploymentStatus_Employed                  20000 non-null  bool   \n",
      " 36  EmploymentStatus_Self-Employed             20000 non-null  bool   \n",
      " 37  EmploymentStatus_Unemployed                20000 non-null  bool   \n",
      " 38  EducationLevel_Associate                   20000 non-null  bool   \n",
      " 39  EducationLevel_Bachelor                    20000 non-null  bool   \n",
      " 40  EducationLevel_Doctorate                   20000 non-null  bool   \n",
      " 41  EducationLevel_High School                 20000 non-null  bool   \n",
      " 42  EducationLevel_Master                      20000 non-null  bool   \n",
      " 43  MaritalStatus_Divorced                     20000 non-null  bool   \n",
      " 44  MaritalStatus_Married                      20000 non-null  bool   \n",
      " 45  MaritalStatus_Single                       20000 non-null  bool   \n",
      " 46  MaritalStatus_Widowed                      20000 non-null  bool   \n",
      " 47  HomeOwnershipStatus_Mortgage               20000 non-null  bool   \n",
      " 48  HomeOwnershipStatus_Other                  20000 non-null  bool   \n",
      " 49  HomeOwnershipStatus_Own                    20000 non-null  bool   \n",
      " 50  HomeOwnershipStatus_Rent                   20000 non-null  bool   \n",
      " 51  LoanPurpose_Auto                           20000 non-null  bool   \n",
      " 52  LoanPurpose_Debt Consolidation             20000 non-null  bool   \n",
      " 53  LoanPurpose_Education                      20000 non-null  bool   \n",
      " 54  LoanPurpose_Home                           20000 non-null  bool   \n",
      " 55  LoanPurpose_Other                          20000 non-null  bool   \n",
      " 56  EmploymentStatus_Fac                       20000 non-null  float64\n",
      " 57  EducationLevel_Fac                         20000 non-null  float64\n",
      " 58  MaritalStatus_Fac                          20000 non-null  float64\n",
      " 59  HomeOwnershipStatus_Fac                    20000 non-null  float64\n",
      " 60  LoanPurpose_Fac                            20000 non-null  float64\n",
      " 61  Age_Bins_(18.0, 30.0]                      20000 non-null  bool   \n",
      " 62  Age_Bins_(30.0, 43.0]                      20000 non-null  bool   \n",
      " 63  Age_Bins_(43.0, 55.0]                      20000 non-null  bool   \n",
      " 64  Age_Bins_(55.0, 68.0]                      20000 non-null  bool   \n",
      " 65  Age_Bins_(68.0, 80.0]                      20000 non-null  bool   \n",
      " 66  Experience_Bins_(-0.1, 12.0]               20000 non-null  bool   \n",
      " 67  Experience_Bins_(12.0, 24.0]               20000 non-null  bool   \n",
      " 68  Experience_Bins_(24.0, 37.0]               20000 non-null  bool   \n",
      " 69  Experience_Bins_(37.0, 49.0]               20000 non-null  bool   \n",
      " 70  Experience_Bins_(49.0, 61.0]               20000 non-null  bool   \n",
      " 71  JobTenure_Bins_(-0.0, 3.0]                 20000 non-null  bool   \n",
      " 72  JobTenure_Bins_(3.0, 6.0]                  20000 non-null  bool   \n",
      " 73  JobTenure_Bins_(6.0, 10.0]                 20000 non-null  bool   \n",
      " 74  JobTenure_Bins_(10.0, 13.0]                20000 non-null  bool   \n",
      " 75  JobTenure_Bins_(13.0, 16.0]                20000 non-null  bool   \n",
      " 76  NumberOfDependents_Bins_(-0.0, 1.0]        20000 non-null  bool   \n",
      " 77  NumberOfDependents_Bins_(1.0, 2.0]         20000 non-null  bool   \n",
      " 78  NumberOfDependents_Bins_(2.0, 3.0]         20000 non-null  bool   \n",
      " 79  NumberOfDependents_Bins_(3.0, 4.0]         20000 non-null  bool   \n",
      " 80  NumberOfDependents_Bins_(4.0, 5.0]         20000 non-null  bool   \n",
      " 81  NumberOfOpenCreditLines_Bins_(-0.0, 3.0]   20000 non-null  bool   \n",
      " 82  NumberOfOpenCreditLines_Bins_(3.0, 5.0]    20000 non-null  bool   \n",
      " 83  NumberOfOpenCreditLines_Bins_(5.0, 8.0]    20000 non-null  bool   \n",
      " 84  NumberOfOpenCreditLines_Bins_(8.0, 10.0]   20000 non-null  bool   \n",
      " 85  NumberOfOpenCreditLines_Bins_(10.0, 13.0]  20000 non-null  bool   \n",
      " 86  NumberOfCreditInquiries_Bins_(-0.01, 1.0]  20000 non-null  bool   \n",
      " 87  NumberOfCreditInquiries_Bins_(1.0, 3.0]    20000 non-null  bool   \n",
      " 88  NumberOfCreditInquiries_Bins_(3.0, 4.0]    20000 non-null  bool   \n",
      " 89  NumberOfCreditInquiries_Bins_(4.0, 6.0]    20000 non-null  bool   \n",
      " 90  NumberOfCreditInquiries_Bins_(6.0, 7.0]    20000 non-null  bool   \n",
      "dtypes: bool(54), float64(32), object(5)\n",
      "memory usage: 6.7+ MB\n"
     ]
    }
   ],
   "source": [
    "# basic pre-processing to standardize data \n",
    "\n",
    "# to clone from original data\n",
    "df = df_orig.copy(deep=True)\n",
    "\n",
    "# to drop the fields that won't be used for analysis\n",
    "# don't consider Loan Application Date, analysis a snapshot, not a time series data.\n",
    "df = df.drop(\"ApplicationDate\", axis=1)\n",
    "\n",
    "# to convert all numbers field into float64 for training later using consistent data type\n",
    "non_object_fields = df_orig.select_dtypes(exclude=['object']).columns\n",
    "df[non_object_fields] = df_orig[non_object_fields].astype('float64')\n",
    "\n",
    "# to convert binary fields into Bool Type to be consistent with the object features fields\n",
    "df[FeatureFieldB] = df_orig[FeatureFieldB].astype('bool')\n",
    "df[\"LoanApproved\"] = df_orig[\"LoanApproved\"].astype('bool')\n",
    "\n",
    "\n",
    "# encoding process\n",
    "\n",
    "# Object Feature Fields in One-Hot encoding\n",
    "FeatureFieldOH = pd.get_dummies(df[FeatureFieldO], columns=FeatureFieldO).columns.to_list()\n",
    "df_onehot = pd.get_dummies(df[FeatureFieldO], columns=FeatureFieldO, drop_first=False)\n",
    "df = pd.concat([df, df_onehot], axis=1)\n",
    "FeatureFieldOH\n",
    "\n",
    "# Object Feature Fields in Factorize encoding\n",
    "FeatureFieldOF=[]\n",
    "for f in FeatureFieldO:\n",
    "    fn = f + \"_Fac\"\n",
    "    FeatureFieldOF.append(fn)\n",
    "    df[fn] = df[f].factorize()[0]\n",
    "df[FeatureFieldOF] = df[FeatureFieldOF].astype('float64')\n",
    "FeatureFieldOF\n",
    "\n",
    "# to categorize the Number feature fields into number of bins\n",
    "FeatureFieldNH = []\n",
    "for f in FeatureFieldN:\n",
    "    b = pd.DataFrame()\n",
    "    b[f + \"_Bins\"] = pd.cut(df[f], bins=5, precision=0)\n",
    "    # to convert bin field into One-Hot fields\n",
    "    b = pd.get_dummies(b, columns=[f + \"_Bins\"])\n",
    "    df = pd.concat([df, b], axis=1)\n",
    "    FeatureFieldNH.extend(b.columns.to_list())\n",
    "    # df.drop(f) # to drop original bin field after it is converted into one-hot fields\n",
    "\n",
    "df.head(2)\n",
    "df.info()\n"
   ]
  },
  {
   "cell_type": "markdown",
   "metadata": {},
   "source": [
    "### Features Engineering\n",
    "\n",
    "To find out which features to be used for training"
   ]
  },
  {
   "cell_type": "code",
   "execution_count": 6,
   "metadata": {},
   "outputs": [
    {
     "name": "stdout",
     "output_type": "stream",
     "text": [
      "<class 'pandas.core.frame.DataFrame'>\n",
      "RangeIndex: 20000 entries, 0 to 19999\n",
      "Data columns (total 43 columns):\n",
      " #   Column                          Non-Null Count  Dtype  \n",
      "---  ------                          --------------  -----  \n",
      " 0   Age                             20000 non-null  float64\n",
      " 1   AnnualIncome                    20000 non-null  float64\n",
      " 2   BankruptcyHistory               20000 non-null  bool   \n",
      " 3   BaseInterestRate                20000 non-null  float64\n",
      " 4   CreditCardUtilizationRate       20000 non-null  float64\n",
      " 5   EducationLevel_Associate        20000 non-null  bool   \n",
      " 6   EducationLevel_Bachelor         20000 non-null  bool   \n",
      " 7   EducationLevel_Doctorate        20000 non-null  bool   \n",
      " 8   EducationLevel_High School      20000 non-null  bool   \n",
      " 9   EducationLevel_Master           20000 non-null  bool   \n",
      " 10  EmploymentStatus_Employed       20000 non-null  bool   \n",
      " 11  EmploymentStatus_Self-Employed  20000 non-null  bool   \n",
      " 12  EmploymentStatus_Unemployed     20000 non-null  bool   \n",
      " 13  Experience                      20000 non-null  float64\n",
      " 14  HomeOwnershipStatus_Mortgage    20000 non-null  bool   \n",
      " 15  HomeOwnershipStatus_Other       20000 non-null  bool   \n",
      " 16  HomeOwnershipStatus_Own         20000 non-null  bool   \n",
      " 17  HomeOwnershipStatus_Rent        20000 non-null  bool   \n",
      " 18  InterestRate                    20000 non-null  float64\n",
      " 19  JobTenure                       20000 non-null  float64\n",
      " 20  LengthOfCreditHistory           20000 non-null  float64\n",
      " 21  LoanAmount                      20000 non-null  float64\n",
      " 22  LoanDuration                    20000 non-null  float64\n",
      " 23  LoanPurpose_Auto                20000 non-null  bool   \n",
      " 24  LoanPurpose_Debt Consolidation  20000 non-null  bool   \n",
      " 25  LoanPurpose_Education           20000 non-null  bool   \n",
      " 26  LoanPurpose_Home                20000 non-null  bool   \n",
      " 27  LoanPurpose_Other               20000 non-null  bool   \n",
      " 28  MaritalStatus_Divorced          20000 non-null  bool   \n",
      " 29  MaritalStatus_Married           20000 non-null  bool   \n",
      " 30  MaritalStatus_Single            20000 non-null  bool   \n",
      " 31  MaritalStatus_Widowed           20000 non-null  bool   \n",
      " 32  MonthlyDebtPayments             20000 non-null  float64\n",
      " 33  MonthlyIncome                   20000 non-null  float64\n",
      " 34  MonthlyLoanPayment              20000 non-null  float64\n",
      " 35  NetWorth                        20000 non-null  float64\n",
      " 36  NumberOfCreditInquiries         20000 non-null  float64\n",
      " 37  NumberOfDependents              20000 non-null  float64\n",
      " 38  NumberOfOpenCreditLines         20000 non-null  float64\n",
      " 39  PreviousLoanDefaults            20000 non-null  bool   \n",
      " 40  TotalAssets                     20000 non-null  float64\n",
      " 41  TotalDebtToIncomeRatio          20000 non-null  float64\n",
      " 42  TotalLiabilities                20000 non-null  float64\n",
      "dtypes: bool(23), float64(20)\n",
      "memory usage: 3.5 MB\n"
     ]
    }
   ],
   "source": [
    "# to pick the fields for training\n",
    "sf = sorted(list(set( \\\n",
    "    FeatureFieldB \\\n",
    "    + FeatureFieldOH \\\n",
    "    + FeatureFieldN \\\n",
    "    + NumberFields \\\n",
    "    + ApplicationFields \\\n",
    "    + CalcFields \\\n",
    "    + [\"NetWorth\", \"MonthlyIncome\", \"MonthlyDebtPayments\", \"MonthlyLoanPayment\", ] \\\n",
    "    + OutputFields\n",
    "    )))\n",
    "df_train = df[sf]\n",
    "\n",
    "# to clone Y from training data, Y is used for result evaluation later\n",
    "Y = df_train.copy(deep=True).head(20000)\n",
    "\n",
    "# to prepare X for training\n",
    "X = Y.copy(deep=True)\n",
    "# to remove the manual label Output Fields, Outlier, that may affect the training\n",
    "drop_fields = OutputFields\n",
    "# to remove Account Balance that may not affect the training.\n",
    "drop_fields = drop_fields + [\"SavingsAccountBalance\", \"CheckingAccountBalance\", ]\n",
    "# to remove base fields that are used to calculate other field. it may be redundant for training.\n",
    "# drop_fields = drop_fields + [\"MonthlyDebtPayments\", \"MonthlyLoanPayment\", \"MonthlyIncome\", ] # base fields used to calculate TotalDebtToIncomeRatio\n",
    "# calculated field \n",
    "# drop_fields = drop_fields + [\"TotalDebtToIncomeRatio\", ] # calculated field\n",
    "X = X.drop(drop_fields, axis=1)\n",
    "X.info()\n",
    "\n",
    "# correlation_matrix = X.corr()\n",
    "# plt.figure(figsize=(40, 40))\n",
    "# sns.heatmap(correlation_matrix, annot=True, cmap='viridis', linewidths=0.5)\n",
    "# plt.title('Correlation Matrix')\n",
    "# plt.show()\n"
   ]
  },
  {
   "cell_type": "markdown",
   "metadata": {},
   "source": [
    "### Outlier\n",
    "\n",
    "To identify Outliers"
   ]
  },
  {
   "cell_type": "code",
   "execution_count": 7,
   "metadata": {},
   "outputs": [
    {
     "data": {
      "text/plain": [
       "LoanApproved\n",
       "False    146\n",
       "True      54\n",
       "Name: count, dtype: int64"
      ]
     },
     "execution_count": 7,
     "metadata": {},
     "output_type": "execute_result"
    }
   ],
   "source": [
    "# to find out the outlier record\n",
    "\n",
    "# hyper-parameter\n",
    "hp_c = 0.01 # for IsolationForest contamination\n",
    "\n",
    "# to create an Isolation Forest model\n",
    "ifm = IsolationForest(random_state=48, contamination=0.01)\n",
    "\n",
    "# to fit the model to the data\n",
    "a = ifm.fit(X)\n",
    "\n",
    "# to predict Outliers (1 for inliers, -1 for outliers)\n",
    "ifm_predict = pd.DataFrame(ifm.predict(X), index=X.index)\n",
    "\n",
    "# to mark the Outliers Data using Boolean\n",
    "# as Outlier may not used for training. so keep it in Y first.\n",
    "Y[\"Outlier\"] = ifm_predict == -1\n",
    "Y[Y[\"Outlier\"] == True][\"LoanApproved\"].value_counts()\n",
    "\n",
    "# to include/exclude Outlier for training\n",
    "# X[\"Outlier\"] = Y[\"Outlier\"]\n"
   ]
  },
  {
   "cell_type": "markdown",
   "metadata": {},
   "source": [
    "## Model Training"
   ]
  },
  {
   "cell_type": "code",
   "execution_count": 16,
   "metadata": {},
   "outputs": [
    {
     "name": "stdout",
     "output_type": "stream",
     "text": [
      "Best Score=0.49934477999999993, cluster=2, random_state=42, True=10362, False=9638, SeedIndex=9567, SeedLabel=0\n"
     ]
    },
    {
     "data": {
      "text/html": [
       "<div>\n",
       "<style scoped>\n",
       "    .dataframe tbody tr th:only-of-type {\n",
       "        vertical-align: middle;\n",
       "    }\n",
       "\n",
       "    .dataframe tbody tr th {\n",
       "        vertical-align: top;\n",
       "    }\n",
       "\n",
       "    .dataframe thead th {\n",
       "        text-align: right;\n",
       "    }\n",
       "</style>\n",
       "<table border=\"1\" class=\"dataframe\">\n",
       "  <thead>\n",
       "    <tr style=\"text-align: right;\">\n",
       "      <th></th>\n",
       "      <th>Clusters</th>\n",
       "      <th>Random</th>\n",
       "      <th>Score</th>\n",
       "      <th>AT</th>\n",
       "      <th>AF</th>\n",
       "      <th>Accuracy</th>\n",
       "      <th>Weighted</th>\n",
       "      <th>TT</th>\n",
       "      <th>FF</th>\n",
       "      <th>TF</th>\n",
       "      <th>FT</th>\n",
       "    </tr>\n",
       "  </thead>\n",
       "  <tbody>\n",
       "    <tr>\n",
       "      <th>0</th>\n",
       "      <td>2.0</td>\n",
       "      <td>42.0</td>\n",
       "      <td>0.499345</td>\n",
       "      <td>10362.0</td>\n",
       "      <td>9638.0</td>\n",
       "      <td>0.6859</td>\n",
       "      <td>0.70013</td>\n",
       "      <td>4430.0</td>\n",
       "      <td>9288.0</td>\n",
       "      <td>5932.0</td>\n",
       "      <td>350.0</td>\n",
       "    </tr>\n",
       "  </tbody>\n",
       "</table>\n",
       "</div>"
      ],
      "text/plain": [
       "   Clusters  Random     Score       AT      AF  Accuracy  Weighted      TT  \\\n",
       "0       2.0    42.0  0.499345  10362.0  9638.0    0.6859   0.70013  4430.0   \n",
       "\n",
       "       FF      TF     FT  \n",
       "0  9288.0  5932.0  350.0  "
      ]
     },
     "execution_count": 16,
     "metadata": {},
     "output_type": "execute_result"
    },
    {
     "name": "stdout",
     "output_type": "stream",
     "text": [
      "Best Score=0.49980398000000004, cluster=2, random_state=43, True=10198, False=9802, SeedIndex=9567, SeedLabel=1\n"
     ]
    },
    {
     "data": {
      "text/html": [
       "<div>\n",
       "<style scoped>\n",
       "    .dataframe tbody tr th:only-of-type {\n",
       "        vertical-align: middle;\n",
       "    }\n",
       "\n",
       "    .dataframe tbody tr th {\n",
       "        vertical-align: top;\n",
       "    }\n",
       "\n",
       "    .dataframe thead th {\n",
       "        text-align: right;\n",
       "    }\n",
       "</style>\n",
       "<table border=\"1\" class=\"dataframe\">\n",
       "  <thead>\n",
       "    <tr style=\"text-align: right;\">\n",
       "      <th></th>\n",
       "      <th>Clusters</th>\n",
       "      <th>Random</th>\n",
       "      <th>Score</th>\n",
       "      <th>AT</th>\n",
       "      <th>AF</th>\n",
       "      <th>Accuracy</th>\n",
       "      <th>Weighted</th>\n",
       "      <th>TT</th>\n",
       "      <th>FF</th>\n",
       "      <th>TF</th>\n",
       "      <th>FT</th>\n",
       "    </tr>\n",
       "  </thead>\n",
       "  <tbody>\n",
       "    <tr>\n",
       "      <th>0</th>\n",
       "      <td>2.0</td>\n",
       "      <td>42.0</td>\n",
       "      <td>0.499345</td>\n",
       "      <td>10362.0</td>\n",
       "      <td>9638.0</td>\n",
       "      <td>0.6859</td>\n",
       "      <td>0.70013</td>\n",
       "      <td>4430.0</td>\n",
       "      <td>9288.0</td>\n",
       "      <td>5932.0</td>\n",
       "      <td>350.0</td>\n",
       "    </tr>\n",
       "  </tbody>\n",
       "</table>\n",
       "</div>"
      ],
      "text/plain": [
       "   Clusters  Random     Score       AT      AF  Accuracy  Weighted      TT  \\\n",
       "0       2.0    42.0  0.499345  10362.0  9638.0    0.6859   0.70013  4430.0   \n",
       "\n",
       "       FF      TF     FT  \n",
       "0  9288.0  5932.0  350.0  "
      ]
     },
     "execution_count": 16,
     "metadata": {},
     "output_type": "execute_result"
    },
    {
     "name": "stdout",
     "output_type": "stream",
     "text": [
      "Score=0.49952259500000007, cluster=2, random_state=44, True=10309, False=9691, SeedIndex=9567, SeedLabel=0\n"
     ]
    },
    {
     "data": {
      "text/html": [
       "<div>\n",
       "<style scoped>\n",
       "    .dataframe tbody tr th:only-of-type {\n",
       "        vertical-align: middle;\n",
       "    }\n",
       "\n",
       "    .dataframe tbody tr th {\n",
       "        vertical-align: top;\n",
       "    }\n",
       "\n",
       "    .dataframe thead th {\n",
       "        text-align: right;\n",
       "    }\n",
       "</style>\n",
       "<table border=\"1\" class=\"dataframe\">\n",
       "  <thead>\n",
       "    <tr style=\"text-align: right;\">\n",
       "      <th></th>\n",
       "      <th>Clusters</th>\n",
       "      <th>Random</th>\n",
       "      <th>Score</th>\n",
       "      <th>AT</th>\n",
       "      <th>AF</th>\n",
       "      <th>Accuracy</th>\n",
       "      <th>Weighted</th>\n",
       "      <th>TT</th>\n",
       "      <th>FF</th>\n",
       "      <th>TF</th>\n",
       "      <th>FT</th>\n",
       "    </tr>\n",
       "  </thead>\n",
       "  <tbody>\n",
       "    <tr>\n",
       "      <th>0</th>\n",
       "      <td>2.0</td>\n",
       "      <td>42.0</td>\n",
       "      <td>0.499345</td>\n",
       "      <td>10362.0</td>\n",
       "      <td>9638.0</td>\n",
       "      <td>0.6859</td>\n",
       "      <td>0.70013</td>\n",
       "      <td>4430.0</td>\n",
       "      <td>9288.0</td>\n",
       "      <td>5932.0</td>\n",
       "      <td>350.0</td>\n",
       "    </tr>\n",
       "  </tbody>\n",
       "</table>\n",
       "</div>"
      ],
      "text/plain": [
       "   Clusters  Random     Score       AT      AF  Accuracy  Weighted      TT  \\\n",
       "0       2.0    42.0  0.499345  10362.0  9638.0    0.6859   0.70013  4430.0   \n",
       "\n",
       "       FF      TF     FT  \n",
       "0  9288.0  5932.0  350.0  "
      ]
     },
     "execution_count": 16,
     "metadata": {},
     "output_type": "execute_result"
    },
    {
     "name": "stdout",
     "output_type": "stream",
     "text": [
      "Score=0.495553755, cluster=3, random_state=42, True=9057, False=10943, SeedIndex=9567, SeedLabel=2\n"
     ]
    },
    {
     "data": {
      "text/html": [
       "<div>\n",
       "<style scoped>\n",
       "    .dataframe tbody tr th:only-of-type {\n",
       "        vertical-align: middle;\n",
       "    }\n",
       "\n",
       "    .dataframe tbody tr th {\n",
       "        vertical-align: top;\n",
       "    }\n",
       "\n",
       "    .dataframe thead th {\n",
       "        text-align: right;\n",
       "    }\n",
       "</style>\n",
       "<table border=\"1\" class=\"dataframe\">\n",
       "  <thead>\n",
       "    <tr style=\"text-align: right;\">\n",
       "      <th></th>\n",
       "      <th>Clusters</th>\n",
       "      <th>Random</th>\n",
       "      <th>Score</th>\n",
       "      <th>AT</th>\n",
       "      <th>AF</th>\n",
       "      <th>Accuracy</th>\n",
       "      <th>Weighted</th>\n",
       "      <th>TT</th>\n",
       "      <th>FF</th>\n",
       "      <th>TF</th>\n",
       "      <th>FT</th>\n",
       "    </tr>\n",
       "  </thead>\n",
       "  <tbody>\n",
       "    <tr>\n",
       "      <th>0</th>\n",
       "      <td>2.0</td>\n",
       "      <td>42.0</td>\n",
       "      <td>0.499345</td>\n",
       "      <td>10362.0</td>\n",
       "      <td>9638.0</td>\n",
       "      <td>0.6859</td>\n",
       "      <td>0.70013</td>\n",
       "      <td>4430.0</td>\n",
       "      <td>9288.0</td>\n",
       "      <td>5932.0</td>\n",
       "      <td>350.0</td>\n",
       "    </tr>\n",
       "  </tbody>\n",
       "</table>\n",
       "</div>"
      ],
      "text/plain": [
       "   Clusters  Random     Score       AT      AF  Accuracy  Weighted      TT  \\\n",
       "0       2.0    42.0  0.499345  10362.0  9638.0    0.6859   0.70013  4430.0   \n",
       "\n",
       "       FF      TF     FT  \n",
       "0  9288.0  5932.0  350.0  "
      ]
     },
     "execution_count": 16,
     "metadata": {},
     "output_type": "execute_result"
    },
    {
     "name": "stdout",
     "output_type": "stream",
     "text": [
      "Score=0.47989987500000003, cluster=3, random_state=43, True=7995, False=12005, SeedIndex=9567, SeedLabel=2\n"
     ]
    },
    {
     "data": {
      "text/html": [
       "<div>\n",
       "<style scoped>\n",
       "    .dataframe tbody tr th:only-of-type {\n",
       "        vertical-align: middle;\n",
       "    }\n",
       "\n",
       "    .dataframe tbody tr th {\n",
       "        vertical-align: top;\n",
       "    }\n",
       "\n",
       "    .dataframe thead th {\n",
       "        text-align: right;\n",
       "    }\n",
       "</style>\n",
       "<table border=\"1\" class=\"dataframe\">\n",
       "  <thead>\n",
       "    <tr style=\"text-align: right;\">\n",
       "      <th></th>\n",
       "      <th>Clusters</th>\n",
       "      <th>Random</th>\n",
       "      <th>Score</th>\n",
       "      <th>AT</th>\n",
       "      <th>AF</th>\n",
       "      <th>Accuracy</th>\n",
       "      <th>Weighted</th>\n",
       "      <th>TT</th>\n",
       "      <th>FF</th>\n",
       "      <th>TF</th>\n",
       "      <th>FT</th>\n",
       "    </tr>\n",
       "  </thead>\n",
       "  <tbody>\n",
       "    <tr>\n",
       "      <th>0</th>\n",
       "      <td>2.0</td>\n",
       "      <td>42.0</td>\n",
       "      <td>0.499345</td>\n",
       "      <td>10362.0</td>\n",
       "      <td>9638.0</td>\n",
       "      <td>0.6859</td>\n",
       "      <td>0.70013</td>\n",
       "      <td>4430.0</td>\n",
       "      <td>9288.0</td>\n",
       "      <td>5932.0</td>\n",
       "      <td>350.0</td>\n",
       "    </tr>\n",
       "  </tbody>\n",
       "</table>\n",
       "</div>"
      ],
      "text/plain": [
       "   Clusters  Random     Score       AT      AF  Accuracy  Weighted      TT  \\\n",
       "0       2.0    42.0  0.499345  10362.0  9638.0    0.6859   0.70013  4430.0   \n",
       "\n",
       "       FF      TF     FT  \n",
       "0  9288.0  5932.0  350.0  "
      ]
     },
     "execution_count": 16,
     "metadata": {},
     "output_type": "execute_result"
    },
    {
     "name": "stdout",
     "output_type": "stream",
     "text": [
      "Score=0.49248462, cluster=3, random_state=44, True=8774, False=11226, SeedIndex=9567, SeedLabel=0\n"
     ]
    },
    {
     "data": {
      "text/html": [
       "<div>\n",
       "<style scoped>\n",
       "    .dataframe tbody tr th:only-of-type {\n",
       "        vertical-align: middle;\n",
       "    }\n",
       "\n",
       "    .dataframe tbody tr th {\n",
       "        vertical-align: top;\n",
       "    }\n",
       "\n",
       "    .dataframe thead th {\n",
       "        text-align: right;\n",
       "    }\n",
       "</style>\n",
       "<table border=\"1\" class=\"dataframe\">\n",
       "  <thead>\n",
       "    <tr style=\"text-align: right;\">\n",
       "      <th></th>\n",
       "      <th>Clusters</th>\n",
       "      <th>Random</th>\n",
       "      <th>Score</th>\n",
       "      <th>AT</th>\n",
       "      <th>AF</th>\n",
       "      <th>Accuracy</th>\n",
       "      <th>Weighted</th>\n",
       "      <th>TT</th>\n",
       "      <th>FF</th>\n",
       "      <th>TF</th>\n",
       "      <th>FT</th>\n",
       "    </tr>\n",
       "  </thead>\n",
       "  <tbody>\n",
       "    <tr>\n",
       "      <th>0</th>\n",
       "      <td>2.0</td>\n",
       "      <td>42.0</td>\n",
       "      <td>0.499345</td>\n",
       "      <td>10362.0</td>\n",
       "      <td>9638.0</td>\n",
       "      <td>0.6859</td>\n",
       "      <td>0.70013</td>\n",
       "      <td>4430.0</td>\n",
       "      <td>9288.0</td>\n",
       "      <td>5932.0</td>\n",
       "      <td>350.0</td>\n",
       "    </tr>\n",
       "  </tbody>\n",
       "</table>\n",
       "</div>"
      ],
      "text/plain": [
       "   Clusters  Random     Score       AT      AF  Accuracy  Weighted      TT  \\\n",
       "0       2.0    42.0  0.499345  10362.0  9638.0    0.6859   0.70013  4430.0   \n",
       "\n",
       "       FF      TF     FT  \n",
       "0  9288.0  5932.0  350.0  "
      ]
     },
     "execution_count": 16,
     "metadata": {},
     "output_type": "execute_result"
    },
    {
     "name": "stdout",
     "output_type": "stream",
     "text": [
      "Score=0.43691648000000005, cluster=4, random_state=42, True=6448, False=13552, SeedIndex=9567, SeedLabel=3\n"
     ]
    },
    {
     "data": {
      "text/html": [
       "<div>\n",
       "<style scoped>\n",
       "    .dataframe tbody tr th:only-of-type {\n",
       "        vertical-align: middle;\n",
       "    }\n",
       "\n",
       "    .dataframe tbody tr th {\n",
       "        vertical-align: top;\n",
       "    }\n",
       "\n",
       "    .dataframe thead th {\n",
       "        text-align: right;\n",
       "    }\n",
       "</style>\n",
       "<table border=\"1\" class=\"dataframe\">\n",
       "  <thead>\n",
       "    <tr style=\"text-align: right;\">\n",
       "      <th></th>\n",
       "      <th>Clusters</th>\n",
       "      <th>Random</th>\n",
       "      <th>Score</th>\n",
       "      <th>AT</th>\n",
       "      <th>AF</th>\n",
       "      <th>Accuracy</th>\n",
       "      <th>Weighted</th>\n",
       "      <th>TT</th>\n",
       "      <th>FF</th>\n",
       "      <th>TF</th>\n",
       "      <th>FT</th>\n",
       "    </tr>\n",
       "  </thead>\n",
       "  <tbody>\n",
       "    <tr>\n",
       "      <th>0</th>\n",
       "      <td>2.0</td>\n",
       "      <td>42.0</td>\n",
       "      <td>0.499345</td>\n",
       "      <td>10362.0</td>\n",
       "      <td>9638.0</td>\n",
       "      <td>0.6859</td>\n",
       "      <td>0.70013</td>\n",
       "      <td>4430.0</td>\n",
       "      <td>9288.0</td>\n",
       "      <td>5932.0</td>\n",
       "      <td>350.0</td>\n",
       "    </tr>\n",
       "  </tbody>\n",
       "</table>\n",
       "</div>"
      ],
      "text/plain": [
       "   Clusters  Random     Score       AT      AF  Accuracy  Weighted      TT  \\\n",
       "0       2.0    42.0  0.499345  10362.0  9638.0    0.6859   0.70013  4430.0   \n",
       "\n",
       "       FF      TF     FT  \n",
       "0  9288.0  5932.0  350.0  "
      ]
     },
     "execution_count": 16,
     "metadata": {},
     "output_type": "execute_result"
    },
    {
     "name": "stdout",
     "output_type": "stream",
     "text": [
      "Score=0.4167271950000001, cluster=4, random_state=43, True=5919, False=14081, SeedIndex=9567, SeedLabel=2\n"
     ]
    },
    {
     "data": {
      "text/html": [
       "<div>\n",
       "<style scoped>\n",
       "    .dataframe tbody tr th:only-of-type {\n",
       "        vertical-align: middle;\n",
       "    }\n",
       "\n",
       "    .dataframe tbody tr th {\n",
       "        vertical-align: top;\n",
       "    }\n",
       "\n",
       "    .dataframe thead th {\n",
       "        text-align: right;\n",
       "    }\n",
       "</style>\n",
       "<table border=\"1\" class=\"dataframe\">\n",
       "  <thead>\n",
       "    <tr style=\"text-align: right;\">\n",
       "      <th></th>\n",
       "      <th>Clusters</th>\n",
       "      <th>Random</th>\n",
       "      <th>Score</th>\n",
       "      <th>AT</th>\n",
       "      <th>AF</th>\n",
       "      <th>Accuracy</th>\n",
       "      <th>Weighted</th>\n",
       "      <th>TT</th>\n",
       "      <th>FF</th>\n",
       "      <th>TF</th>\n",
       "      <th>FT</th>\n",
       "    </tr>\n",
       "  </thead>\n",
       "  <tbody>\n",
       "    <tr>\n",
       "      <th>0</th>\n",
       "      <td>2.0</td>\n",
       "      <td>42.0</td>\n",
       "      <td>0.499345</td>\n",
       "      <td>10362.0</td>\n",
       "      <td>9638.0</td>\n",
       "      <td>0.6859</td>\n",
       "      <td>0.70013</td>\n",
       "      <td>4430.0</td>\n",
       "      <td>9288.0</td>\n",
       "      <td>5932.0</td>\n",
       "      <td>350.0</td>\n",
       "    </tr>\n",
       "  </tbody>\n",
       "</table>\n",
       "</div>"
      ],
      "text/plain": [
       "   Clusters  Random     Score       AT      AF  Accuracy  Weighted      TT  \\\n",
       "0       2.0    42.0  0.499345  10362.0  9638.0    0.6859   0.70013  4430.0   \n",
       "\n",
       "       FF      TF     FT  \n",
       "0  9288.0  5932.0  350.0  "
      ]
     },
     "execution_count": 16,
     "metadata": {},
     "output_type": "execute_result"
    },
    {
     "name": "stdout",
     "output_type": "stream",
     "text": [
      "Score=0.472551755, cluster=4, random_state=44, True=7657, False=12343, SeedIndex=9567, SeedLabel=0\n"
     ]
    },
    {
     "data": {
      "text/html": [
       "<div>\n",
       "<style scoped>\n",
       "    .dataframe tbody tr th:only-of-type {\n",
       "        vertical-align: middle;\n",
       "    }\n",
       "\n",
       "    .dataframe tbody tr th {\n",
       "        vertical-align: top;\n",
       "    }\n",
       "\n",
       "    .dataframe thead th {\n",
       "        text-align: right;\n",
       "    }\n",
       "</style>\n",
       "<table border=\"1\" class=\"dataframe\">\n",
       "  <thead>\n",
       "    <tr style=\"text-align: right;\">\n",
       "      <th></th>\n",
       "      <th>Clusters</th>\n",
       "      <th>Random</th>\n",
       "      <th>Score</th>\n",
       "      <th>AT</th>\n",
       "      <th>AF</th>\n",
       "      <th>Accuracy</th>\n",
       "      <th>Weighted</th>\n",
       "      <th>TT</th>\n",
       "      <th>FF</th>\n",
       "      <th>TF</th>\n",
       "      <th>FT</th>\n",
       "    </tr>\n",
       "  </thead>\n",
       "  <tbody>\n",
       "    <tr>\n",
       "      <th>0</th>\n",
       "      <td>2.0</td>\n",
       "      <td>42.0</td>\n",
       "      <td>0.499345</td>\n",
       "      <td>10362.0</td>\n",
       "      <td>9638.0</td>\n",
       "      <td>0.6859</td>\n",
       "      <td>0.70013</td>\n",
       "      <td>4430.0</td>\n",
       "      <td>9288.0</td>\n",
       "      <td>5932.0</td>\n",
       "      <td>350.0</td>\n",
       "    </tr>\n",
       "  </tbody>\n",
       "</table>\n",
       "</div>"
      ],
      "text/plain": [
       "   Clusters  Random     Score       AT      AF  Accuracy  Weighted      TT  \\\n",
       "0       2.0    42.0  0.499345  10362.0  9638.0    0.6859   0.70013  4430.0   \n",
       "\n",
       "       FF      TF     FT  \n",
       "0  9288.0  5932.0  350.0  "
      ]
     },
     "execution_count": 16,
     "metadata": {},
     "output_type": "execute_result"
    },
    {
     "name": "stdout",
     "output_type": "stream",
     "text": [
      "Score=0.4564875000000001, cluster=5, random_state=42, True=7050, False=12950, SeedIndex=9567, SeedLabel=3\n"
     ]
    },
    {
     "data": {
      "text/html": [
       "<div>\n",
       "<style scoped>\n",
       "    .dataframe tbody tr th:only-of-type {\n",
       "        vertical-align: middle;\n",
       "    }\n",
       "\n",
       "    .dataframe tbody tr th {\n",
       "        vertical-align: top;\n",
       "    }\n",
       "\n",
       "    .dataframe thead th {\n",
       "        text-align: right;\n",
       "    }\n",
       "</style>\n",
       "<table border=\"1\" class=\"dataframe\">\n",
       "  <thead>\n",
       "    <tr style=\"text-align: right;\">\n",
       "      <th></th>\n",
       "      <th>Clusters</th>\n",
       "      <th>Random</th>\n",
       "      <th>Score</th>\n",
       "      <th>AT</th>\n",
       "      <th>AF</th>\n",
       "      <th>Accuracy</th>\n",
       "      <th>Weighted</th>\n",
       "      <th>TT</th>\n",
       "      <th>FF</th>\n",
       "      <th>TF</th>\n",
       "      <th>FT</th>\n",
       "    </tr>\n",
       "  </thead>\n",
       "  <tbody>\n",
       "    <tr>\n",
       "      <th>0</th>\n",
       "      <td>2.0</td>\n",
       "      <td>42.0</td>\n",
       "      <td>0.499345</td>\n",
       "      <td>10362.0</td>\n",
       "      <td>9638.0</td>\n",
       "      <td>0.6859</td>\n",
       "      <td>0.70013</td>\n",
       "      <td>4430.0</td>\n",
       "      <td>9288.0</td>\n",
       "      <td>5932.0</td>\n",
       "      <td>350.0</td>\n",
       "    </tr>\n",
       "  </tbody>\n",
       "</table>\n",
       "</div>"
      ],
      "text/plain": [
       "   Clusters  Random     Score       AT      AF  Accuracy  Weighted      TT  \\\n",
       "0       2.0    42.0  0.499345  10362.0  9638.0    0.6859   0.70013  4430.0   \n",
       "\n",
       "       FF      TF     FT  \n",
       "0  9288.0  5932.0  350.0  "
      ]
     },
     "execution_count": 16,
     "metadata": {},
     "output_type": "execute_result"
    },
    {
     "name": "stdout",
     "output_type": "stream",
     "text": [
      "Score=0.44854368, cluster=5, random_state=43, True=6792, False=13208, SeedIndex=9567, SeedLabel=3\n"
     ]
    },
    {
     "data": {
      "text/html": [
       "<div>\n",
       "<style scoped>\n",
       "    .dataframe tbody tr th:only-of-type {\n",
       "        vertical-align: middle;\n",
       "    }\n",
       "\n",
       "    .dataframe tbody tr th {\n",
       "        vertical-align: top;\n",
       "    }\n",
       "\n",
       "    .dataframe thead th {\n",
       "        text-align: right;\n",
       "    }\n",
       "</style>\n",
       "<table border=\"1\" class=\"dataframe\">\n",
       "  <thead>\n",
       "    <tr style=\"text-align: right;\">\n",
       "      <th></th>\n",
       "      <th>Clusters</th>\n",
       "      <th>Random</th>\n",
       "      <th>Score</th>\n",
       "      <th>AT</th>\n",
       "      <th>AF</th>\n",
       "      <th>Accuracy</th>\n",
       "      <th>Weighted</th>\n",
       "      <th>TT</th>\n",
       "      <th>FF</th>\n",
       "      <th>TF</th>\n",
       "      <th>FT</th>\n",
       "    </tr>\n",
       "  </thead>\n",
       "  <tbody>\n",
       "    <tr>\n",
       "      <th>0</th>\n",
       "      <td>2.0</td>\n",
       "      <td>42.0</td>\n",
       "      <td>0.499345</td>\n",
       "      <td>10362.0</td>\n",
       "      <td>9638.0</td>\n",
       "      <td>0.6859</td>\n",
       "      <td>0.70013</td>\n",
       "      <td>4430.0</td>\n",
       "      <td>9288.0</td>\n",
       "      <td>5932.0</td>\n",
       "      <td>350.0</td>\n",
       "    </tr>\n",
       "  </tbody>\n",
       "</table>\n",
       "</div>"
      ],
      "text/plain": [
       "   Clusters  Random     Score       AT      AF  Accuracy  Weighted      TT  \\\n",
       "0       2.0    42.0  0.499345  10362.0  9638.0    0.6859   0.70013  4430.0   \n",
       "\n",
       "       FF      TF     FT  \n",
       "0  9288.0  5932.0  350.0  "
      ]
     },
     "execution_count": 16,
     "metadata": {},
     "output_type": "execute_result"
    },
    {
     "name": "stdout",
     "output_type": "stream",
     "text": [
      "Score=0.2256076800000001, cluster=5, random_state=44, True=2592, False=17408, SeedIndex=9567, SeedLabel=4\n"
     ]
    },
    {
     "data": {
      "text/html": [
       "<div>\n",
       "<style scoped>\n",
       "    .dataframe tbody tr th:only-of-type {\n",
       "        vertical-align: middle;\n",
       "    }\n",
       "\n",
       "    .dataframe tbody tr th {\n",
       "        vertical-align: top;\n",
       "    }\n",
       "\n",
       "    .dataframe thead th {\n",
       "        text-align: right;\n",
       "    }\n",
       "</style>\n",
       "<table border=\"1\" class=\"dataframe\">\n",
       "  <thead>\n",
       "    <tr style=\"text-align: right;\">\n",
       "      <th></th>\n",
       "      <th>Clusters</th>\n",
       "      <th>Random</th>\n",
       "      <th>Score</th>\n",
       "      <th>AT</th>\n",
       "      <th>AF</th>\n",
       "      <th>Accuracy</th>\n",
       "      <th>Weighted</th>\n",
       "      <th>TT</th>\n",
       "      <th>FF</th>\n",
       "      <th>TF</th>\n",
       "      <th>FT</th>\n",
       "    </tr>\n",
       "  </thead>\n",
       "  <tbody>\n",
       "    <tr>\n",
       "      <th>0</th>\n",
       "      <td>2.0</td>\n",
       "      <td>42.0</td>\n",
       "      <td>0.499345</td>\n",
       "      <td>10362.0</td>\n",
       "      <td>9638.0</td>\n",
       "      <td>0.6859</td>\n",
       "      <td>0.70013</td>\n",
       "      <td>4430.0</td>\n",
       "      <td>9288.0</td>\n",
       "      <td>5932.0</td>\n",
       "      <td>350.0</td>\n",
       "    </tr>\n",
       "  </tbody>\n",
       "</table>\n",
       "</div>"
      ],
      "text/plain": [
       "   Clusters  Random     Score       AT      AF  Accuracy  Weighted      TT  \\\n",
       "0       2.0    42.0  0.499345  10362.0  9638.0    0.6859   0.70013  4430.0   \n",
       "\n",
       "       FF      TF     FT  \n",
       "0  9288.0  5932.0  350.0  "
      ]
     },
     "execution_count": 16,
     "metadata": {},
     "output_type": "execute_result"
    },
    {
     "name": "stdout",
     "output_type": "stream",
     "text": [
      "Score=0.44274272000000003, cluster=6, random_state=42, True=6616, False=13384, SeedIndex=9567, SeedLabel=3\n"
     ]
    },
    {
     "data": {
      "text/html": [
       "<div>\n",
       "<style scoped>\n",
       "    .dataframe tbody tr th:only-of-type {\n",
       "        vertical-align: middle;\n",
       "    }\n",
       "\n",
       "    .dataframe tbody tr th {\n",
       "        vertical-align: top;\n",
       "    }\n",
       "\n",
       "    .dataframe thead th {\n",
       "        text-align: right;\n",
       "    }\n",
       "</style>\n",
       "<table border=\"1\" class=\"dataframe\">\n",
       "  <thead>\n",
       "    <tr style=\"text-align: right;\">\n",
       "      <th></th>\n",
       "      <th>Clusters</th>\n",
       "      <th>Random</th>\n",
       "      <th>Score</th>\n",
       "      <th>AT</th>\n",
       "      <th>AF</th>\n",
       "      <th>Accuracy</th>\n",
       "      <th>Weighted</th>\n",
       "      <th>TT</th>\n",
       "      <th>FF</th>\n",
       "      <th>TF</th>\n",
       "      <th>FT</th>\n",
       "    </tr>\n",
       "  </thead>\n",
       "  <tbody>\n",
       "    <tr>\n",
       "      <th>0</th>\n",
       "      <td>2.0</td>\n",
       "      <td>42.0</td>\n",
       "      <td>0.499345</td>\n",
       "      <td>10362.0</td>\n",
       "      <td>9638.0</td>\n",
       "      <td>0.6859</td>\n",
       "      <td>0.70013</td>\n",
       "      <td>4430.0</td>\n",
       "      <td>9288.0</td>\n",
       "      <td>5932.0</td>\n",
       "      <td>350.0</td>\n",
       "    </tr>\n",
       "  </tbody>\n",
       "</table>\n",
       "</div>"
      ],
      "text/plain": [
       "   Clusters  Random     Score       AT      AF  Accuracy  Weighted      TT  \\\n",
       "0       2.0    42.0  0.499345  10362.0  9638.0    0.6859   0.70013  4430.0   \n",
       "\n",
       "       FF      TF     FT  \n",
       "0  9288.0  5932.0  350.0  "
      ]
     },
     "execution_count": 16,
     "metadata": {},
     "output_type": "execute_result"
    },
    {
     "name": "stdout",
     "output_type": "stream",
     "text": [
      "Score=0.22285987500000015, cluster=6, random_state=43, True=2555, False=17445, SeedIndex=9567, SeedLabel=5\n"
     ]
    },
    {
     "data": {
      "text/html": [
       "<div>\n",
       "<style scoped>\n",
       "    .dataframe tbody tr th:only-of-type {\n",
       "        vertical-align: middle;\n",
       "    }\n",
       "\n",
       "    .dataframe tbody tr th {\n",
       "        vertical-align: top;\n",
       "    }\n",
       "\n",
       "    .dataframe thead th {\n",
       "        text-align: right;\n",
       "    }\n",
       "</style>\n",
       "<table border=\"1\" class=\"dataframe\">\n",
       "  <thead>\n",
       "    <tr style=\"text-align: right;\">\n",
       "      <th></th>\n",
       "      <th>Clusters</th>\n",
       "      <th>Random</th>\n",
       "      <th>Score</th>\n",
       "      <th>AT</th>\n",
       "      <th>AF</th>\n",
       "      <th>Accuracy</th>\n",
       "      <th>Weighted</th>\n",
       "      <th>TT</th>\n",
       "      <th>FF</th>\n",
       "      <th>TF</th>\n",
       "      <th>FT</th>\n",
       "    </tr>\n",
       "  </thead>\n",
       "  <tbody>\n",
       "    <tr>\n",
       "      <th>0</th>\n",
       "      <td>2.0</td>\n",
       "      <td>42.0</td>\n",
       "      <td>0.499345</td>\n",
       "      <td>10362.0</td>\n",
       "      <td>9638.0</td>\n",
       "      <td>0.6859</td>\n",
       "      <td>0.70013</td>\n",
       "      <td>4430.0</td>\n",
       "      <td>9288.0</td>\n",
       "      <td>5932.0</td>\n",
       "      <td>350.0</td>\n",
       "    </tr>\n",
       "  </tbody>\n",
       "</table>\n",
       "</div>"
      ],
      "text/plain": [
       "   Clusters  Random     Score       AT      AF  Accuracy  Weighted      TT  \\\n",
       "0       2.0    42.0  0.499345  10362.0  9638.0    0.6859   0.70013  4430.0   \n",
       "\n",
       "       FF      TF     FT  \n",
       "0  9288.0  5932.0  350.0  "
      ]
     },
     "execution_count": 16,
     "metadata": {},
     "output_type": "execute_result"
    },
    {
     "name": "stdout",
     "output_type": "stream",
     "text": [
      "Score=0.22419835500000007, cluster=6, random_state=44, True=2573, False=17427, SeedIndex=9567, SeedLabel=4\n"
     ]
    },
    {
     "data": {
      "text/html": [
       "<div>\n",
       "<style scoped>\n",
       "    .dataframe tbody tr th:only-of-type {\n",
       "        vertical-align: middle;\n",
       "    }\n",
       "\n",
       "    .dataframe tbody tr th {\n",
       "        vertical-align: top;\n",
       "    }\n",
       "\n",
       "    .dataframe thead th {\n",
       "        text-align: right;\n",
       "    }\n",
       "</style>\n",
       "<table border=\"1\" class=\"dataframe\">\n",
       "  <thead>\n",
       "    <tr style=\"text-align: right;\">\n",
       "      <th></th>\n",
       "      <th>Clusters</th>\n",
       "      <th>Random</th>\n",
       "      <th>Score</th>\n",
       "      <th>AT</th>\n",
       "      <th>AF</th>\n",
       "      <th>Accuracy</th>\n",
       "      <th>Weighted</th>\n",
       "      <th>TT</th>\n",
       "      <th>FF</th>\n",
       "      <th>TF</th>\n",
       "      <th>FT</th>\n",
       "    </tr>\n",
       "  </thead>\n",
       "  <tbody>\n",
       "    <tr>\n",
       "      <th>0</th>\n",
       "      <td>2.0</td>\n",
       "      <td>42.0</td>\n",
       "      <td>0.499345</td>\n",
       "      <td>10362.0</td>\n",
       "      <td>9638.0</td>\n",
       "      <td>0.6859</td>\n",
       "      <td>0.70013</td>\n",
       "      <td>4430.0</td>\n",
       "      <td>9288.0</td>\n",
       "      <td>5932.0</td>\n",
       "      <td>350.0</td>\n",
       "    </tr>\n",
       "  </tbody>\n",
       "</table>\n",
       "</div>"
      ],
      "text/plain": [
       "   Clusters  Random     Score       AT      AF  Accuracy  Weighted      TT  \\\n",
       "0       2.0    42.0  0.499345  10362.0  9638.0    0.6859   0.70013  4430.0   \n",
       "\n",
       "       FF      TF     FT  \n",
       "0  9288.0  5932.0  350.0  "
      ]
     },
     "execution_count": 16,
     "metadata": {},
     "output_type": "execute_result"
    },
    {
     "name": "stdout",
     "output_type": "stream",
     "text": [
      "                                                MonthlyLoanPayment          \n",
      "                                                               sum     count\n",
      "LoanApprovedCompare LoanApprovedAI LoanApproved                             \n",
      "False               False          True                 280,820.68    388.00\n",
      "                    True           False              4,790,237.04  5,806.00\n",
      "True                False          False             10,144,663.65  9,414.00\n",
      "                    True           True               3,016,419.67  4,392.00\n"
     ]
    }
   ],
   "source": [
    "# to use unsupervised Gaussian Mixture method to train the model and predict the clusters\n",
    "\n",
    "# to reserve the column for validation later\n",
    "Y[\"LoanApprovedAI\"] = False\n",
    "\n",
    "# to calc the Seed Record that is approved for sure. It is used to identify which cluster is marked as approved during un-supervised training, semi-un-supervised\n",
    "LoanApprovedSeed = Y.nlargest(64, \"NetWorth\").nlargest(16, \"MonthlyIncome\").nsmallest(4, \"MonthlyDebtPayments\").nsmallest(1, \"MonthlyLoanPayment\")\n",
    "\n",
    "# to define hyper-parameter\n",
    "hp_c = 2 # number of cluster for labeling\n",
    "hp_r = 42 # random_state\n",
    "\n",
    "# to standardize the data\n",
    "scaler = StandardScaler()\n",
    "a = scaler.fit(X)\n",
    "X_scaled = pd.DataFrame(scaler.transform(X), columns=X.columns, index=X.index) # to align the index\n",
    "\n",
    "best_model = None\n",
    "best_labels = None\n",
    "best_score = -1\n",
    "eval_result = pd.DataFrame()\n",
    "for c in range(hp_c, hp_c + 5):\n",
    "    for r in range(hp_r, hp_r + 3):\n",
    "        # To use GaussianMixture Model\n",
    "        # model = GaussianMixture(n_components=c, init_params=\"random\", random_state=r)\n",
    "        # To use KMeans\n",
    "        model = KMeans(n_clusters=c, init='k-means++', random_state=r)\n",
    "\n",
    "        # to train the model\n",
    "        a = model.fit(X_scaled)\n",
    "        # to predict labels\n",
    "        labels = model.predict(X_scaled)\n",
    "\n",
    "        # to keep the original labels\n",
    "        b = pd.DataFrame({\"LoanApprovedAIl\": labels}, index=X_scaled.index)\n",
    "        # to derive the standard labels using Seed Record\n",
    "        b[\"LoanApprovedAI\"] = b[\"LoanApprovedAIl\"] == b.loc[LoanApprovedSeed.index[0]][0]\n",
    "\n",
    "        # to evaluate the picking of cluster\n",
    "        t = b[\"LoanApprovedAI\"].value_counts()[True]\n",
    "        f = b[\"LoanApprovedAI\"].value_counts()[False]\n",
    "        # score = -abs(t - f)/(t + f) # Negative Balance Ratio, assume the gap between False and True, smaller is better, ie. Approve and Reject is similar\n",
    "        # score = min(t, f) / max(t, f) # Class Balance Measure, assume Approve and Reject is similar\n",
    "        # score = calinski_harabasz_score(X, labels) # Calinski-Harabasz. higher is better\n",
    "        # score = silhouette_score(X, labels) # Silhouette Coefficient measures how similar a data point is to its own cluster compared to other clusters.\n",
    "        # score = abs(t - f)/(t + f) # Balance Ratio, assume the gap between False and True, bigger is better, ie. lesser Approve is better\n",
    "        score = 1 - (t/(t + f))**2 - (f/(t + f))**2 # Gini Coefficient, assume Approve and Reject is similar\n",
    "        if score > best_score: # score is better\n",
    "            best_model = model\n",
    "            best_labels = b\n",
    "            best_score = score\n",
    "            print(f\"Best Score={score}, cluster={c}, random_state={r}, True={t}, False={f}, SeedIndex={LoanApprovedSeed.index[0]}, SeedLabel={b.iat[LoanApprovedSeed.index[0], 0]}\")\n",
    "        else: # score is not better\n",
    "            print(f\"Score={score}, cluster={c}, random_state={r}, True={t}, False={f}, SeedIndex={LoanApprovedSeed.index[0]}, SeedLabel={b.iat[LoanApprovedSeed.index[0], 0]}\")\n",
    "\n",
    "        # to evaluate the result using manual label.\n",
    "        C = pd.DataFrame()\n",
    "        C[\"LoanApproved\"] = Y[\"LoanApproved\"]\n",
    "        C[\"LoanApprovedAI\"] = b[\"LoanApprovedAI\"]\n",
    "        C[\"LoanApprovedCompare\"] = C[\"LoanApproved\"] == C[\"LoanApprovedAI\"]\n",
    "        la_tf = C.groupby([\"LoanApprovedAI\", \"LoanApproved\"]).size()\n",
    "\n",
    "        # Custom weights\n",
    "        W_TT = 1.0   # TT (True Positives), Actual Value is same as Predicted Value, both are True\n",
    "        W_FF = 0.7   # FF (True Negatives), Actual Value is same as Predicted Value, both are False\n",
    "        W_TF = 0.5   # TF (False Negatives), Actual Value is False, Predicted Value is True\n",
    "        W_FT = 0.3   # FT (False Positives), Actual Value is True, Predicted Value is False\n",
    "\n",
    "        TP = la_tf.loc[(True,True)]  # True Positive (TT)\n",
    "        TN = la_tf.loc[(False,False)]  # True Negative (FF)\n",
    "        FN = la_tf.loc[(True,False)]  # False Negative (TF)\n",
    "        FP = la_tf.loc[(False,True)]  # False Positive (FT)\n",
    "        total = TP + TN + FN + FP\n",
    "\n",
    "        accuracy = (TP + TN)/total\n",
    "        weighted = ((W_TT * TP) + (W_FF * TN) + (W_TF * FN) + (W_FT * FP)) / total\n",
    "\n",
    "        # to keep the evaluation result\n",
    "        e = pd.Series({\"Clusters\": c, \"Random\": r, \"Score\": score, \"AT\": t, \"AF\": f, \"Accuracy\": accuracy, \"Weighted\": weighted, \"TT\": TP, \"FF\": TN, \"TF\": FN, \"FT\": FP})\n",
    "        eval_result = pd.concat([eval_result, e.to_frame().T], ignore_index=True)\n",
    "        eval_result.head(1)\n",
    "\n",
    "        # b.value_counts()\n",
    "        \n",
    "# to keep the label\n",
    "Y[\"LoanApprovedAIl\"] = best_labels[\"LoanApprovedAIl\"]\n",
    "# to mark LoanApprovedAI of current loop as True if the label is same as the label of the seed record\n",
    "Y[\"LoanApprovedAI\"] = best_labels[\"LoanApprovedAI\"]\n",
    "Y[\"LoanApprovedCompare\"] = Y[\"LoanApproved\"] == Y[\"LoanApprovedAI\"]\n",
    "\n",
    "df_group = Y.groupby([\"LoanApprovedCompare\", \"LoanApprovedAI\", \"LoanApproved\"]).agg({'MonthlyLoanPayment': ['sum', 'count']})\n",
    "formatted_sum = df_group.applymap(lambda x: f\"{x:,.2f}\")\n",
    "print(formatted_sum)\n"
   ]
  },
  {
   "cell_type": "markdown",
   "metadata": {},
   "source": [
    "## Model Validation"
   ]
  },
  {
   "cell_type": "code",
   "execution_count": 17,
   "metadata": {},
   "outputs": [
    {
     "data": {
      "text/html": [
       "<div>\n",
       "<style scoped>\n",
       "    .dataframe tbody tr th:only-of-type {\n",
       "        vertical-align: middle;\n",
       "    }\n",
       "\n",
       "    .dataframe tbody tr th {\n",
       "        vertical-align: top;\n",
       "    }\n",
       "\n",
       "    .dataframe thead th {\n",
       "        text-align: right;\n",
       "    }\n",
       "</style>\n",
       "<table border=\"1\" class=\"dataframe\">\n",
       "  <thead>\n",
       "    <tr style=\"text-align: right;\">\n",
       "      <th></th>\n",
       "      <th>Clusters</th>\n",
       "      <th>Random</th>\n",
       "      <th>Score</th>\n",
       "      <th>AT</th>\n",
       "      <th>AF</th>\n",
       "      <th>Accuracy</th>\n",
       "      <th>Weighted</th>\n",
       "      <th>TT</th>\n",
       "      <th>FF</th>\n",
       "      <th>TF</th>\n",
       "      <th>FT</th>\n",
       "    </tr>\n",
       "  </thead>\n",
       "  <tbody>\n",
       "    <tr>\n",
       "      <th>0</th>\n",
       "      <td>2.0</td>\n",
       "      <td>42.0</td>\n",
       "      <td>0.499345</td>\n",
       "      <td>10362.0</td>\n",
       "      <td>9638.0</td>\n",
       "      <td>0.68590</td>\n",
       "      <td>0.700130</td>\n",
       "      <td>4430.0</td>\n",
       "      <td>9288.0</td>\n",
       "      <td>5932.0</td>\n",
       "      <td>350.0</td>\n",
       "    </tr>\n",
       "    <tr>\n",
       "      <th>1</th>\n",
       "      <td>2.0</td>\n",
       "      <td>43.0</td>\n",
       "      <td>0.499804</td>\n",
       "      <td>10198.0</td>\n",
       "      <td>9802.0</td>\n",
       "      <td>0.69030</td>\n",
       "      <td>0.700060</td>\n",
       "      <td>4392.0</td>\n",
       "      <td>9414.0</td>\n",
       "      <td>5806.0</td>\n",
       "      <td>388.0</td>\n",
       "    </tr>\n",
       "    <tr>\n",
       "      <th>2</th>\n",
       "      <td>2.0</td>\n",
       "      <td>44.0</td>\n",
       "      <td>0.499523</td>\n",
       "      <td>10309.0</td>\n",
       "      <td>9691.0</td>\n",
       "      <td>0.68725</td>\n",
       "      <td>0.700075</td>\n",
       "      <td>4417.0</td>\n",
       "      <td>9328.0</td>\n",
       "      <td>5892.0</td>\n",
       "      <td>363.0</td>\n",
       "    </tr>\n",
       "    <tr>\n",
       "      <th>3</th>\n",
       "      <td>3.0</td>\n",
       "      <td>42.0</td>\n",
       "      <td>0.495554</td>\n",
       "      <td>9057.0</td>\n",
       "      <td>10943.0</td>\n",
       "      <td>0.68845</td>\n",
       "      <td>0.684965</td>\n",
       "      <td>3803.0</td>\n",
       "      <td>9966.0</td>\n",
       "      <td>5254.0</td>\n",
       "      <td>977.0</td>\n",
       "    </tr>\n",
       "    <tr>\n",
       "      <th>4</th>\n",
       "      <td>3.0</td>\n",
       "      <td>43.0</td>\n",
       "      <td>0.479900</td>\n",
       "      <td>7995.0</td>\n",
       "      <td>12005.0</td>\n",
       "      <td>0.74555</td>\n",
       "      <td>0.697385</td>\n",
       "      <td>3843.0</td>\n",
       "      <td>11068.0</td>\n",
       "      <td>4152.0</td>\n",
       "      <td>937.0</td>\n",
       "    </tr>\n",
       "    <tr>\n",
       "      <th>5</th>\n",
       "      <td>3.0</td>\n",
       "      <td>44.0</td>\n",
       "      <td>0.492485</td>\n",
       "      <td>8774.0</td>\n",
       "      <td>11226.0</td>\n",
       "      <td>0.70090</td>\n",
       "      <td>0.687030</td>\n",
       "      <td>3786.0</td>\n",
       "      <td>10232.0</td>\n",
       "      <td>4988.0</td>\n",
       "      <td>994.0</td>\n",
       "    </tr>\n",
       "    <tr>\n",
       "      <th>6</th>\n",
       "      <td>4.0</td>\n",
       "      <td>42.0</td>\n",
       "      <td>0.436916</td>\n",
       "      <td>6448.0</td>\n",
       "      <td>13552.0</td>\n",
       "      <td>0.77130</td>\n",
       "      <td>0.689635</td>\n",
       "      <td>3327.0</td>\n",
       "      <td>12099.0</td>\n",
       "      <td>3121.0</td>\n",
       "      <td>1453.0</td>\n",
       "    </tr>\n",
       "    <tr>\n",
       "      <th>7</th>\n",
       "      <td>4.0</td>\n",
       "      <td>43.0</td>\n",
       "      <td>0.416727</td>\n",
       "      <td>5919.0</td>\n",
       "      <td>14081.0</td>\n",
       "      <td>0.67065</td>\n",
       "      <td>0.637730</td>\n",
       "      <td>2056.0</td>\n",
       "      <td>11357.0</td>\n",
       "      <td>3863.0</td>\n",
       "      <td>2724.0</td>\n",
       "    </tr>\n",
       "    <tr>\n",
       "      <th>8</th>\n",
       "      <td>4.0</td>\n",
       "      <td>44.0</td>\n",
       "      <td>0.472552</td>\n",
       "      <td>7657.0</td>\n",
       "      <td>12343.0</td>\n",
       "      <td>0.58175</td>\n",
       "      <td>0.619450</td>\n",
       "      <td>2036.0</td>\n",
       "      <td>9599.0</td>\n",
       "      <td>5621.0</td>\n",
       "      <td>2744.0</td>\n",
       "    </tr>\n",
       "    <tr>\n",
       "      <th>9</th>\n",
       "      <td>5.0</td>\n",
       "      <td>42.0</td>\n",
       "      <td>0.456488</td>\n",
       "      <td>7050.0</td>\n",
       "      <td>12950.0</td>\n",
       "      <td>0.59320</td>\n",
       "      <td>0.617015</td>\n",
       "      <td>1847.0</td>\n",
       "      <td>10017.0</td>\n",
       "      <td>5203.0</td>\n",
       "      <td>2933.0</td>\n",
       "    </tr>\n",
       "    <tr>\n",
       "      <th>10</th>\n",
       "      <td>5.0</td>\n",
       "      <td>43.0</td>\n",
       "      <td>0.448544</td>\n",
       "      <td>6792.0</td>\n",
       "      <td>13208.0</td>\n",
       "      <td>0.58760</td>\n",
       "      <td>0.611270</td>\n",
       "      <td>1662.0</td>\n",
       "      <td>10090.0</td>\n",
       "      <td>5130.0</td>\n",
       "      <td>3118.0</td>\n",
       "    </tr>\n",
       "    <tr>\n",
       "      <th>11</th>\n",
       "      <td>5.0</td>\n",
       "      <td>44.0</td>\n",
       "      <td>0.225608</td>\n",
       "      <td>2592.0</td>\n",
       "      <td>17408.0</td>\n",
       "      <td>0.68820</td>\n",
       "      <td>0.604040</td>\n",
       "      <td>568.0</td>\n",
       "      <td>13196.0</td>\n",
       "      <td>2024.0</td>\n",
       "      <td>4212.0</td>\n",
       "    </tr>\n",
       "    <tr>\n",
       "      <th>12</th>\n",
       "      <td>6.0</td>\n",
       "      <td>42.0</td>\n",
       "      <td>0.442743</td>\n",
       "      <td>6616.0</td>\n",
       "      <td>13384.0</td>\n",
       "      <td>0.59900</td>\n",
       "      <td>0.614200</td>\n",
       "      <td>1688.0</td>\n",
       "      <td>10292.0</td>\n",
       "      <td>4928.0</td>\n",
       "      <td>3092.0</td>\n",
       "    </tr>\n",
       "    <tr>\n",
       "      <th>13</th>\n",
       "      <td>6.0</td>\n",
       "      <td>43.0</td>\n",
       "      <td>0.222860</td>\n",
       "      <td>2555.0</td>\n",
       "      <td>17445.0</td>\n",
       "      <td>0.69075</td>\n",
       "      <td>0.604725</td>\n",
       "      <td>575.0</td>\n",
       "      <td>13240.0</td>\n",
       "      <td>1980.0</td>\n",
       "      <td>4205.0</td>\n",
       "    </tr>\n",
       "    <tr>\n",
       "      <th>14</th>\n",
       "      <td>6.0</td>\n",
       "      <td>44.0</td>\n",
       "      <td>0.224198</td>\n",
       "      <td>2573.0</td>\n",
       "      <td>17427.0</td>\n",
       "      <td>0.68945</td>\n",
       "      <td>0.604365</td>\n",
       "      <td>571.0</td>\n",
       "      <td>13218.0</td>\n",
       "      <td>2002.0</td>\n",
       "      <td>4209.0</td>\n",
       "    </tr>\n",
       "  </tbody>\n",
       "</table>\n",
       "</div>"
      ],
      "text/plain": [
       "    Clusters  Random     Score       AT       AF  Accuracy  Weighted      TT  \\\n",
       "0        2.0    42.0  0.499345  10362.0   9638.0   0.68590  0.700130  4430.0   \n",
       "1        2.0    43.0  0.499804  10198.0   9802.0   0.69030  0.700060  4392.0   \n",
       "2        2.0    44.0  0.499523  10309.0   9691.0   0.68725  0.700075  4417.0   \n",
       "3        3.0    42.0  0.495554   9057.0  10943.0   0.68845  0.684965  3803.0   \n",
       "4        3.0    43.0  0.479900   7995.0  12005.0   0.74555  0.697385  3843.0   \n",
       "5        3.0    44.0  0.492485   8774.0  11226.0   0.70090  0.687030  3786.0   \n",
       "6        4.0    42.0  0.436916   6448.0  13552.0   0.77130  0.689635  3327.0   \n",
       "7        4.0    43.0  0.416727   5919.0  14081.0   0.67065  0.637730  2056.0   \n",
       "8        4.0    44.0  0.472552   7657.0  12343.0   0.58175  0.619450  2036.0   \n",
       "9        5.0    42.0  0.456488   7050.0  12950.0   0.59320  0.617015  1847.0   \n",
       "10       5.0    43.0  0.448544   6792.0  13208.0   0.58760  0.611270  1662.0   \n",
       "11       5.0    44.0  0.225608   2592.0  17408.0   0.68820  0.604040   568.0   \n",
       "12       6.0    42.0  0.442743   6616.0  13384.0   0.59900  0.614200  1688.0   \n",
       "13       6.0    43.0  0.222860   2555.0  17445.0   0.69075  0.604725   575.0   \n",
       "14       6.0    44.0  0.224198   2573.0  17427.0   0.68945  0.604365   571.0   \n",
       "\n",
       "         FF      TF      FT  \n",
       "0    9288.0  5932.0   350.0  \n",
       "1    9414.0  5806.0   388.0  \n",
       "2    9328.0  5892.0   363.0  \n",
       "3    9966.0  5254.0   977.0  \n",
       "4   11068.0  4152.0   937.0  \n",
       "5   10232.0  4988.0   994.0  \n",
       "6   12099.0  3121.0  1453.0  \n",
       "7   11357.0  3863.0  2724.0  \n",
       "8    9599.0  5621.0  2744.0  \n",
       "9   10017.0  5203.0  2933.0  \n",
       "10  10090.0  5130.0  3118.0  \n",
       "11  13196.0  2024.0  4212.0  \n",
       "12  10292.0  4928.0  3092.0  \n",
       "13  13240.0  1980.0  4205.0  \n",
       "14  13218.0  2002.0  4209.0  "
      ]
     },
     "execution_count": 17,
     "metadata": {},
     "output_type": "execute_result"
    }
   ],
   "source": [
    "eval_result\n"
   ]
  },
  {
   "cell_type": "markdown",
   "metadata": {},
   "source": [
    "### Visualization of validation result"
   ]
  },
  {
   "cell_type": "code",
   "execution_count": 18,
   "metadata": {},
   "outputs": [
    {
     "data": {
      "application/vnd.plotly.v1+json": {
       "config": {
        "plotlyServerURL": "https://plot.ly"
       },
       "data": [
        {
         "hoverinfo": "text",
         "hovertext": [
          "Weighted: 70.01%",
          "Weighted: 70.01%",
          "Weighted: 70.01%",
          "Weighted: 68.50%",
          "Weighted: 69.74%",
          "Weighted: 68.70%",
          "Weighted: 68.96%",
          "Weighted: 63.77%",
          "Weighted: 61.94%",
          "Weighted: 61.70%",
          "Weighted: 61.13%",
          "Weighted: 60.40%",
          "Weighted: 61.42%",
          "Weighted: 60.47%",
          "Weighted: 60.44%"
         ],
         "marker": {
          "color": "blue",
          "size": [
           35.006499999999996,
           35.00299999999999,
           35.00375,
           34.24825,
           34.869249999999994,
           34.3515,
           34.48175,
           31.8865,
           30.972499999999997,
           30.850749999999998,
           30.563499999999998,
           30.201999999999995,
           30.709999999999997,
           30.23625,
           30.218249999999998
          ]
         },
         "mode": "markers",
         "name": "Score",
         "type": "scatter3d",
         "x": [
          2,
          2,
          2,
          3,
          3,
          3,
          4,
          4,
          4,
          5,
          5,
          5,
          6,
          6,
          6
         ],
         "y": [
          42,
          43,
          44,
          42,
          43,
          44,
          42,
          43,
          44,
          42,
          43,
          44,
          42,
          43,
          44
         ],
         "z": [
          0.49934477999999993,
          0.49980398000000004,
          0.49952259500000007,
          0.495553755,
          0.47989987500000003,
          0.49248462,
          0.43691648000000005,
          0.4167271950000001,
          0.472551755,
          0.4564875000000001,
          0.44854368,
          0.2256076800000001,
          0.44274272000000003,
          0.22285987500000015,
          0.22419835500000007
         ]
        },
        {
         "hoverinfo": "text",
         "hovertext": [
          "Max Weighted: 70.01%"
         ],
         "marker": {
          "color": "orange",
          "line": {
           "width": 1
          },
          "size": [
           35.006499999999996
          ],
          "symbol": "circle"
         },
         "mode": "markers",
         "name": "Max Weighted",
         "type": "scatter3d",
         "x": [
          2
         ],
         "y": [
          42
         ],
         "z": [
          0.49934477999999993
         ]
        },
        {
         "hoverinfo": "text",
         "hovertext": [
          "Max Weighted: 70.01%"
         ],
         "marker": {
          "color": "green",
          "line": {
           "width": 1
          },
          "size": [
           35.00299999999999
          ],
          "symbol": "circle"
         },
         "mode": "markers",
         "name": "Max Score",
         "type": "scatter3d",
         "x": [
          2
         ],
         "y": [
          43
         ],
         "z": [
          0.49980398000000004
         ]
        }
       ],
       "layout": {
        "scene": {
         "xaxis": {
          "dtick": 1,
          "tickformat": "d",
          "title": {
           "text": "Clusters"
          }
         },
         "yaxis": {
          "dtick": 1,
          "tickformat": "d",
          "title": {
           "text": "Random"
          }
         },
         "zaxis": {
          "title": {
           "text": "Score"
          }
         }
        },
        "template": {
         "data": {
          "bar": [
           {
            "error_x": {
             "color": "#2a3f5f"
            },
            "error_y": {
             "color": "#2a3f5f"
            },
            "marker": {
             "line": {
              "color": "#E5ECF6",
              "width": 0.5
             },
             "pattern": {
              "fillmode": "overlay",
              "size": 10,
              "solidity": 0.2
             }
            },
            "type": "bar"
           }
          ],
          "barpolar": [
           {
            "marker": {
             "line": {
              "color": "#E5ECF6",
              "width": 0.5
             },
             "pattern": {
              "fillmode": "overlay",
              "size": 10,
              "solidity": 0.2
             }
            },
            "type": "barpolar"
           }
          ],
          "carpet": [
           {
            "aaxis": {
             "endlinecolor": "#2a3f5f",
             "gridcolor": "white",
             "linecolor": "white",
             "minorgridcolor": "white",
             "startlinecolor": "#2a3f5f"
            },
            "baxis": {
             "endlinecolor": "#2a3f5f",
             "gridcolor": "white",
             "linecolor": "white",
             "minorgridcolor": "white",
             "startlinecolor": "#2a3f5f"
            },
            "type": "carpet"
           }
          ],
          "choropleth": [
           {
            "colorbar": {
             "outlinewidth": 0,
             "ticks": ""
            },
            "type": "choropleth"
           }
          ],
          "contour": [
           {
            "colorbar": {
             "outlinewidth": 0,
             "ticks": ""
            },
            "colorscale": [
             [
              0,
              "#0d0887"
             ],
             [
              0.1111111111111111,
              "#46039f"
             ],
             [
              0.2222222222222222,
              "#7201a8"
             ],
             [
              0.3333333333333333,
              "#9c179e"
             ],
             [
              0.4444444444444444,
              "#bd3786"
             ],
             [
              0.5555555555555556,
              "#d8576b"
             ],
             [
              0.6666666666666666,
              "#ed7953"
             ],
             [
              0.7777777777777778,
              "#fb9f3a"
             ],
             [
              0.8888888888888888,
              "#fdca26"
             ],
             [
              1,
              "#f0f921"
             ]
            ],
            "type": "contour"
           }
          ],
          "contourcarpet": [
           {
            "colorbar": {
             "outlinewidth": 0,
             "ticks": ""
            },
            "type": "contourcarpet"
           }
          ],
          "heatmap": [
           {
            "colorbar": {
             "outlinewidth": 0,
             "ticks": ""
            },
            "colorscale": [
             [
              0,
              "#0d0887"
             ],
             [
              0.1111111111111111,
              "#46039f"
             ],
             [
              0.2222222222222222,
              "#7201a8"
             ],
             [
              0.3333333333333333,
              "#9c179e"
             ],
             [
              0.4444444444444444,
              "#bd3786"
             ],
             [
              0.5555555555555556,
              "#d8576b"
             ],
             [
              0.6666666666666666,
              "#ed7953"
             ],
             [
              0.7777777777777778,
              "#fb9f3a"
             ],
             [
              0.8888888888888888,
              "#fdca26"
             ],
             [
              1,
              "#f0f921"
             ]
            ],
            "type": "heatmap"
           }
          ],
          "heatmapgl": [
           {
            "colorbar": {
             "outlinewidth": 0,
             "ticks": ""
            },
            "colorscale": [
             [
              0,
              "#0d0887"
             ],
             [
              0.1111111111111111,
              "#46039f"
             ],
             [
              0.2222222222222222,
              "#7201a8"
             ],
             [
              0.3333333333333333,
              "#9c179e"
             ],
             [
              0.4444444444444444,
              "#bd3786"
             ],
             [
              0.5555555555555556,
              "#d8576b"
             ],
             [
              0.6666666666666666,
              "#ed7953"
             ],
             [
              0.7777777777777778,
              "#fb9f3a"
             ],
             [
              0.8888888888888888,
              "#fdca26"
             ],
             [
              1,
              "#f0f921"
             ]
            ],
            "type": "heatmapgl"
           }
          ],
          "histogram": [
           {
            "marker": {
             "pattern": {
              "fillmode": "overlay",
              "size": 10,
              "solidity": 0.2
             }
            },
            "type": "histogram"
           }
          ],
          "histogram2d": [
           {
            "colorbar": {
             "outlinewidth": 0,
             "ticks": ""
            },
            "colorscale": [
             [
              0,
              "#0d0887"
             ],
             [
              0.1111111111111111,
              "#46039f"
             ],
             [
              0.2222222222222222,
              "#7201a8"
             ],
             [
              0.3333333333333333,
              "#9c179e"
             ],
             [
              0.4444444444444444,
              "#bd3786"
             ],
             [
              0.5555555555555556,
              "#d8576b"
             ],
             [
              0.6666666666666666,
              "#ed7953"
             ],
             [
              0.7777777777777778,
              "#fb9f3a"
             ],
             [
              0.8888888888888888,
              "#fdca26"
             ],
             [
              1,
              "#f0f921"
             ]
            ],
            "type": "histogram2d"
           }
          ],
          "histogram2dcontour": [
           {
            "colorbar": {
             "outlinewidth": 0,
             "ticks": ""
            },
            "colorscale": [
             [
              0,
              "#0d0887"
             ],
             [
              0.1111111111111111,
              "#46039f"
             ],
             [
              0.2222222222222222,
              "#7201a8"
             ],
             [
              0.3333333333333333,
              "#9c179e"
             ],
             [
              0.4444444444444444,
              "#bd3786"
             ],
             [
              0.5555555555555556,
              "#d8576b"
             ],
             [
              0.6666666666666666,
              "#ed7953"
             ],
             [
              0.7777777777777778,
              "#fb9f3a"
             ],
             [
              0.8888888888888888,
              "#fdca26"
             ],
             [
              1,
              "#f0f921"
             ]
            ],
            "type": "histogram2dcontour"
           }
          ],
          "mesh3d": [
           {
            "colorbar": {
             "outlinewidth": 0,
             "ticks": ""
            },
            "type": "mesh3d"
           }
          ],
          "parcoords": [
           {
            "line": {
             "colorbar": {
              "outlinewidth": 0,
              "ticks": ""
             }
            },
            "type": "parcoords"
           }
          ],
          "pie": [
           {
            "automargin": true,
            "type": "pie"
           }
          ],
          "scatter": [
           {
            "fillpattern": {
             "fillmode": "overlay",
             "size": 10,
             "solidity": 0.2
            },
            "type": "scatter"
           }
          ],
          "scatter3d": [
           {
            "line": {
             "colorbar": {
              "outlinewidth": 0,
              "ticks": ""
             }
            },
            "marker": {
             "colorbar": {
              "outlinewidth": 0,
              "ticks": ""
             }
            },
            "type": "scatter3d"
           }
          ],
          "scattercarpet": [
           {
            "marker": {
             "colorbar": {
              "outlinewidth": 0,
              "ticks": ""
             }
            },
            "type": "scattercarpet"
           }
          ],
          "scattergeo": [
           {
            "marker": {
             "colorbar": {
              "outlinewidth": 0,
              "ticks": ""
             }
            },
            "type": "scattergeo"
           }
          ],
          "scattergl": [
           {
            "marker": {
             "colorbar": {
              "outlinewidth": 0,
              "ticks": ""
             }
            },
            "type": "scattergl"
           }
          ],
          "scattermapbox": [
           {
            "marker": {
             "colorbar": {
              "outlinewidth": 0,
              "ticks": ""
             }
            },
            "type": "scattermapbox"
           }
          ],
          "scatterpolar": [
           {
            "marker": {
             "colorbar": {
              "outlinewidth": 0,
              "ticks": ""
             }
            },
            "type": "scatterpolar"
           }
          ],
          "scatterpolargl": [
           {
            "marker": {
             "colorbar": {
              "outlinewidth": 0,
              "ticks": ""
             }
            },
            "type": "scatterpolargl"
           }
          ],
          "scatterternary": [
           {
            "marker": {
             "colorbar": {
              "outlinewidth": 0,
              "ticks": ""
             }
            },
            "type": "scatterternary"
           }
          ],
          "surface": [
           {
            "colorbar": {
             "outlinewidth": 0,
             "ticks": ""
            },
            "colorscale": [
             [
              0,
              "#0d0887"
             ],
             [
              0.1111111111111111,
              "#46039f"
             ],
             [
              0.2222222222222222,
              "#7201a8"
             ],
             [
              0.3333333333333333,
              "#9c179e"
             ],
             [
              0.4444444444444444,
              "#bd3786"
             ],
             [
              0.5555555555555556,
              "#d8576b"
             ],
             [
              0.6666666666666666,
              "#ed7953"
             ],
             [
              0.7777777777777778,
              "#fb9f3a"
             ],
             [
              0.8888888888888888,
              "#fdca26"
             ],
             [
              1,
              "#f0f921"
             ]
            ],
            "type": "surface"
           }
          ],
          "table": [
           {
            "cells": {
             "fill": {
              "color": "#EBF0F8"
             },
             "line": {
              "color": "white"
             }
            },
            "header": {
             "fill": {
              "color": "#C8D4E3"
             },
             "line": {
              "color": "white"
             }
            },
            "type": "table"
           }
          ]
         },
         "layout": {
          "annotationdefaults": {
           "arrowcolor": "#2a3f5f",
           "arrowhead": 0,
           "arrowwidth": 1
          },
          "autotypenumbers": "strict",
          "coloraxis": {
           "colorbar": {
            "outlinewidth": 0,
            "ticks": ""
           }
          },
          "colorscale": {
           "diverging": [
            [
             0,
             "#8e0152"
            ],
            [
             0.1,
             "#c51b7d"
            ],
            [
             0.2,
             "#de77ae"
            ],
            [
             0.3,
             "#f1b6da"
            ],
            [
             0.4,
             "#fde0ef"
            ],
            [
             0.5,
             "#f7f7f7"
            ],
            [
             0.6,
             "#e6f5d0"
            ],
            [
             0.7,
             "#b8e186"
            ],
            [
             0.8,
             "#7fbc41"
            ],
            [
             0.9,
             "#4d9221"
            ],
            [
             1,
             "#276419"
            ]
           ],
           "sequential": [
            [
             0,
             "#0d0887"
            ],
            [
             0.1111111111111111,
             "#46039f"
            ],
            [
             0.2222222222222222,
             "#7201a8"
            ],
            [
             0.3333333333333333,
             "#9c179e"
            ],
            [
             0.4444444444444444,
             "#bd3786"
            ],
            [
             0.5555555555555556,
             "#d8576b"
            ],
            [
             0.6666666666666666,
             "#ed7953"
            ],
            [
             0.7777777777777778,
             "#fb9f3a"
            ],
            [
             0.8888888888888888,
             "#fdca26"
            ],
            [
             1,
             "#f0f921"
            ]
           ],
           "sequentialminus": [
            [
             0,
             "#0d0887"
            ],
            [
             0.1111111111111111,
             "#46039f"
            ],
            [
             0.2222222222222222,
             "#7201a8"
            ],
            [
             0.3333333333333333,
             "#9c179e"
            ],
            [
             0.4444444444444444,
             "#bd3786"
            ],
            [
             0.5555555555555556,
             "#d8576b"
            ],
            [
             0.6666666666666666,
             "#ed7953"
            ],
            [
             0.7777777777777778,
             "#fb9f3a"
            ],
            [
             0.8888888888888888,
             "#fdca26"
            ],
            [
             1,
             "#f0f921"
            ]
           ]
          },
          "colorway": [
           "#636efa",
           "#EF553B",
           "#00cc96",
           "#ab63fa",
           "#FFA15A",
           "#19d3f3",
           "#FF6692",
           "#B6E880",
           "#FF97FF",
           "#FECB52"
          ],
          "font": {
           "color": "#2a3f5f"
          },
          "geo": {
           "bgcolor": "white",
           "lakecolor": "white",
           "landcolor": "#E5ECF6",
           "showlakes": true,
           "showland": true,
           "subunitcolor": "white"
          },
          "hoverlabel": {
           "align": "left"
          },
          "hovermode": "closest",
          "mapbox": {
           "style": "light"
          },
          "paper_bgcolor": "white",
          "plot_bgcolor": "#E5ECF6",
          "polar": {
           "angularaxis": {
            "gridcolor": "white",
            "linecolor": "white",
            "ticks": ""
           },
           "bgcolor": "#E5ECF6",
           "radialaxis": {
            "gridcolor": "white",
            "linecolor": "white",
            "ticks": ""
           }
          },
          "scene": {
           "xaxis": {
            "backgroundcolor": "#E5ECF6",
            "gridcolor": "white",
            "gridwidth": 2,
            "linecolor": "white",
            "showbackground": true,
            "ticks": "",
            "zerolinecolor": "white"
           },
           "yaxis": {
            "backgroundcolor": "#E5ECF6",
            "gridcolor": "white",
            "gridwidth": 2,
            "linecolor": "white",
            "showbackground": true,
            "ticks": "",
            "zerolinecolor": "white"
           },
           "zaxis": {
            "backgroundcolor": "#E5ECF6",
            "gridcolor": "white",
            "gridwidth": 2,
            "linecolor": "white",
            "showbackground": true,
            "ticks": "",
            "zerolinecolor": "white"
           }
          },
          "shapedefaults": {
           "line": {
            "color": "#2a3f5f"
           }
          },
          "ternary": {
           "aaxis": {
            "gridcolor": "white",
            "linecolor": "white",
            "ticks": ""
           },
           "baxis": {
            "gridcolor": "white",
            "linecolor": "white",
            "ticks": ""
           },
           "bgcolor": "#E5ECF6",
           "caxis": {
            "gridcolor": "white",
            "linecolor": "white",
            "ticks": ""
           }
          },
          "title": {
           "x": 0.05
          },
          "xaxis": {
           "automargin": true,
           "gridcolor": "white",
           "linecolor": "white",
           "ticks": "",
           "title": {
            "standoff": 15
           },
           "zerolinecolor": "white",
           "zerolinewidth": 2
          },
          "yaxis": {
           "automargin": true,
           "gridcolor": "white",
           "linecolor": "white",
           "ticks": "",
           "title": {
            "standoff": 15
           },
           "zerolinecolor": "white",
           "zerolinewidth": 2
          }
         }
        },
        "title": {
         "text": "Clusters, Random, Score and Weighted"
        }
       }
      }
     },
     "metadata": {},
     "output_type": "display_data"
    }
   ],
   "source": [
    "# to draw live diagram to show the most accuracy data\n",
    "max_acc_idx = eval_result['Weighted'].idxmax()\n",
    "max_score_idx = eval_result['Score'].idxmax()\n",
    "\n",
    "# 3D scatter plot\n",
    "fig = go.Figure(data=[\n",
    "        go.Scatter3d(\n",
    "            x=eval_result['Clusters'],\n",
    "            y=eval_result['Random'],\n",
    "            z=eval_result['Score'],\n",
    "            mode='markers',\n",
    "            marker=dict(size=eval_result['Weighted']*50, color='blue'),\n",
    "            hoverinfo='text',\n",
    "            hovertext=[f\"Weighted: {acc:.2f}%\" for acc in eval_result['Weighted']*100],\n",
    "            name=\"Score\",),\n",
    "        go.Scatter3d(\n",
    "            x=[eval_result.loc[max_acc_idx, 'Clusters']],\n",
    "            y=[eval_result.loc[max_acc_idx, 'Random']],\n",
    "            z=[eval_result.loc[max_acc_idx, 'Score']],\n",
    "            mode='markers',\n",
    "            marker=dict(\n",
    "                size=[eval_result.loc[max_acc_idx, 'Weighted']*50], \n",
    "                color='orange', \n",
    "                symbol='circle',\n",
    "                line=dict(width=1)\n",
    "            ),\n",
    "            hoverinfo='text',\n",
    "            hovertext=[f\"Max Weighted: {eval_result.loc[max_acc_idx, 'Weighted']*100:.2f}%\"],\n",
    "            name=\"Max Weighted\",),\n",
    "        go.Scatter3d(\n",
    "            x=[eval_result.loc[max_score_idx, 'Clusters']],\n",
    "            y=[eval_result.loc[max_score_idx, 'Random']],\n",
    "            z=[eval_result.loc[max_score_idx, 'Score']],\n",
    "            mode='markers',\n",
    "            marker=dict(\n",
    "                size=[eval_result.loc[max_score_idx, 'Weighted']*50], \n",
    "                color='green', \n",
    "                symbol='circle',\n",
    "                line=dict(width=1)\n",
    "            ),\n",
    "            hoverinfo='text',\n",
    "            hovertext=[f\"Max Weighted: {eval_result.loc[max_score_idx, 'Weighted']*100:.2f}%\"],\n",
    "            name=\"Max Score\",),\n",
    "    ])\n",
    "\n",
    "# Set labels and title\n",
    "fig.update_layout(\n",
    "    title='Clusters, Random, Score and Weighted',\n",
    "    scene=dict(\n",
    "        xaxis_title='Clusters',\n",
    "        xaxis=dict(tickformat=\"d\", dtick=1),\n",
    "        yaxis_title='Random',\n",
    "        yaxis=dict(tickformat=\"d\", dtick=1),\n",
    "        zaxis_title='Score'\n",
    "    )\n",
    ")\n",
    "\n",
    "# Show interactive plot\n",
    "# fig.show()"
   ]
  },
  {
   "cell_type": "markdown",
   "metadata": {},
   "source": [
    "### To keep the trained Credit Risk Model\n",
    "\n",
    "To save the trained Credit Risk Model and scaler file for future use."
   ]
  },
  {
   "cell_type": "code",
   "execution_count": 11,
   "metadata": {},
   "outputs": [
    {
     "data": {
      "text/plain": [
       "['credit-risk-model.joblib']"
      ]
     },
     "execution_count": 11,
     "metadata": {},
     "output_type": "execute_result"
    },
    {
     "data": {
      "text/plain": [
       "['credit-risk-scaler.joblib']"
      ]
     },
     "execution_count": 11,
     "metadata": {},
     "output_type": "execute_result"
    }
   ],
   "source": [
    "# to save the model to files for future usage\n",
    "dump(best_model, 'credit-risk-model.joblib')\n",
    "dump(scaler, 'credit-risk-scaler.joblib')\n"
   ]
  },
  {
   "cell_type": "markdown",
   "metadata": {},
   "source": [
    "## Credit Risk Loan Approve/Reject Prediction\n",
    "\n",
    "to use Credit Risk Model for Loan Application Approve/Reject Assessment"
   ]
  },
  {
   "cell_type": "code",
   "execution_count": 12,
   "metadata": {},
   "outputs": [
    {
     "data": {
      "text/html": [
       "<div>\n",
       "<style scoped>\n",
       "    .dataframe tbody tr th:only-of-type {\n",
       "        vertical-align: middle;\n",
       "    }\n",
       "\n",
       "    .dataframe tbody tr th {\n",
       "        vertical-align: top;\n",
       "    }\n",
       "\n",
       "    .dataframe thead th {\n",
       "        text-align: right;\n",
       "    }\n",
       "</style>\n",
       "<table border=\"1\" class=\"dataframe\">\n",
       "  <thead>\n",
       "    <tr style=\"text-align: right;\">\n",
       "      <th></th>\n",
       "      <th>ApplicationDate</th>\n",
       "      <th>Age</th>\n",
       "      <th>AnnualIncome</th>\n",
       "      <th>CreditScore</th>\n",
       "      <th>EmploymentStatus</th>\n",
       "      <th>EducationLevel</th>\n",
       "      <th>Experience</th>\n",
       "      <th>LoanAmount</th>\n",
       "      <th>LoanDuration</th>\n",
       "      <th>MaritalStatus</th>\n",
       "      <th>...</th>\n",
       "      <th>MonthlyIncome</th>\n",
       "      <th>UtilityBillsPaymentHistory</th>\n",
       "      <th>JobTenure</th>\n",
       "      <th>NetWorth</th>\n",
       "      <th>BaseInterestRate</th>\n",
       "      <th>InterestRate</th>\n",
       "      <th>MonthlyLoanPayment</th>\n",
       "      <th>TotalDebtToIncomeRatio</th>\n",
       "      <th>LoanApproved</th>\n",
       "      <th>RiskScore</th>\n",
       "    </tr>\n",
       "  </thead>\n",
       "  <tbody>\n",
       "    <tr>\n",
       "      <th>0</th>\n",
       "      <td>2018-01-01</td>\n",
       "      <td>45</td>\n",
       "      <td>26032</td>\n",
       "      <td>467</td>\n",
       "      <td>Employed</td>\n",
       "      <td>Associate</td>\n",
       "      <td>24</td>\n",
       "      <td>17499</td>\n",
       "      <td>36</td>\n",
       "      <td>Divorced</td>\n",
       "      <td>...</td>\n",
       "      <td>2169.333333</td>\n",
       "      <td>0.704786</td>\n",
       "      <td>7</td>\n",
       "      <td>28301</td>\n",
       "      <td>0.268999</td>\n",
       "      <td>0.258727</td>\n",
       "      <td>703.859114</td>\n",
       "      <td>0.592283</td>\n",
       "      <td>0</td>\n",
       "      <td>60.0</td>\n",
       "    </tr>\n",
       "    <tr>\n",
       "      <th>1</th>\n",
       "      <td>2018-01-02</td>\n",
       "      <td>38</td>\n",
       "      <td>47162</td>\n",
       "      <td>552</td>\n",
       "      <td>Employed</td>\n",
       "      <td>High School</td>\n",
       "      <td>16</td>\n",
       "      <td>27728</td>\n",
       "      <td>60</td>\n",
       "      <td>Single</td>\n",
       "      <td>...</td>\n",
       "      <td>3930.166667</td>\n",
       "      <td>0.912653</td>\n",
       "      <td>8</td>\n",
       "      <td>1480</td>\n",
       "      <td>0.256728</td>\n",
       "      <td>0.242414</td>\n",
       "      <td>801.568058</td>\n",
       "      <td>0.296824</td>\n",
       "      <td>0</td>\n",
       "      <td>55.0</td>\n",
       "    </tr>\n",
       "  </tbody>\n",
       "</table>\n",
       "<p>2 rows × 36 columns</p>\n",
       "</div>"
      ],
      "text/plain": [
       "  ApplicationDate  Age  AnnualIncome  CreditScore EmploymentStatus  \\\n",
       "0      2018-01-01   45         26032          467         Employed   \n",
       "1      2018-01-02   38         47162          552         Employed   \n",
       "\n",
       "  EducationLevel  Experience  LoanAmount  LoanDuration MaritalStatus  ...  \\\n",
       "0      Associate          24       17499            36      Divorced  ...   \n",
       "1    High School          16       27728            60        Single  ...   \n",
       "\n",
       "   MonthlyIncome UtilityBillsPaymentHistory  JobTenure  NetWorth  \\\n",
       "0    2169.333333                   0.704786          7     28301   \n",
       "1    3930.166667                   0.912653          8      1480   \n",
       "\n",
       "   BaseInterestRate  InterestRate  MonthlyLoanPayment  TotalDebtToIncomeRatio  \\\n",
       "0          0.268999      0.258727          703.859114                0.592283   \n",
       "1          0.256728      0.242414          801.568058                0.296824   \n",
       "\n",
       "  LoanApproved  RiskScore  \n",
       "0            0       60.0  \n",
       "1            0       55.0  \n",
       "\n",
       "[2 rows x 36 columns]"
      ]
     },
     "execution_count": 12,
     "metadata": {},
     "output_type": "execute_result"
    },
    {
     "data": {
      "text/html": [
       "<div>\n",
       "<style scoped>\n",
       "    .dataframe tbody tr th:only-of-type {\n",
       "        vertical-align: middle;\n",
       "    }\n",
       "\n",
       "    .dataframe tbody tr th {\n",
       "        vertical-align: top;\n",
       "    }\n",
       "\n",
       "    .dataframe thead th {\n",
       "        text-align: right;\n",
       "    }\n",
       "</style>\n",
       "<table border=\"1\" class=\"dataframe\">\n",
       "  <thead>\n",
       "    <tr style=\"text-align: right;\">\n",
       "      <th></th>\n",
       "      <th>Age</th>\n",
       "      <th>AnnualIncome</th>\n",
       "      <th>BankruptcyHistory</th>\n",
       "      <th>BaseInterestRate</th>\n",
       "      <th>CheckingAccountBalance</th>\n",
       "      <th>CreditCardUtilizationRate</th>\n",
       "      <th>CreditScore</th>\n",
       "      <th>EducationLevel_Associate</th>\n",
       "      <th>EducationLevel_Bachelor</th>\n",
       "      <th>EducationLevel_Doctorate</th>\n",
       "      <th>...</th>\n",
       "      <th>NetWorth</th>\n",
       "      <th>NumberOfCreditInquiries</th>\n",
       "      <th>NumberOfDependents</th>\n",
       "      <th>NumberOfOpenCreditLines</th>\n",
       "      <th>PreviousLoanDefaults</th>\n",
       "      <th>RiskScore</th>\n",
       "      <th>SavingsAccountBalance</th>\n",
       "      <th>TotalAssets</th>\n",
       "      <th>TotalDebtToIncomeRatio</th>\n",
       "      <th>TotalLiabilities</th>\n",
       "    </tr>\n",
       "  </thead>\n",
       "  <tbody>\n",
       "    <tr>\n",
       "      <th>94</th>\n",
       "      <td>35.0</td>\n",
       "      <td>192154.0</td>\n",
       "      <td>False</td>\n",
       "      <td>0.241267</td>\n",
       "      <td>2209.0</td>\n",
       "      <td>0.426151</td>\n",
       "      <td>552.0</td>\n",
       "      <td>False</td>\n",
       "      <td>False</td>\n",
       "      <td>False</td>\n",
       "      <td>...</td>\n",
       "      <td>468753.0</td>\n",
       "      <td>2.0</td>\n",
       "      <td>2.0</td>\n",
       "      <td>1.0</td>\n",
       "      <td>False</td>\n",
       "      <td>34.4</td>\n",
       "      <td>1583.0</td>\n",
       "      <td>517144.0</td>\n",
       "      <td>0.03824</td>\n",
       "      <td>48391.0</td>\n",
       "    </tr>\n",
       "  </tbody>\n",
       "</table>\n",
       "<p>1 rows × 48 columns</p>\n",
       "</div>"
      ],
      "text/plain": [
       "     Age  AnnualIncome  BankruptcyHistory  BaseInterestRate  \\\n",
       "94  35.0      192154.0              False          0.241267   \n",
       "\n",
       "    CheckingAccountBalance  CreditCardUtilizationRate  CreditScore  \\\n",
       "94                  2209.0                   0.426151        552.0   \n",
       "\n",
       "    EducationLevel_Associate  EducationLevel_Bachelor  \\\n",
       "94                     False                    False   \n",
       "\n",
       "    EducationLevel_Doctorate  ...  NetWorth  NumberOfCreditInquiries  \\\n",
       "94                     False  ...  468753.0                      2.0   \n",
       "\n",
       "    NumberOfDependents  NumberOfOpenCreditLines  PreviousLoanDefaults  \\\n",
       "94                 2.0                      1.0                 False   \n",
       "\n",
       "    RiskScore  SavingsAccountBalance  TotalAssets  TotalDebtToIncomeRatio  \\\n",
       "94       34.4                 1583.0     517144.0                 0.03824   \n",
       "\n",
       "    TotalLiabilities  \n",
       "94           48391.0  \n",
       "\n",
       "[1 rows x 48 columns]"
      ]
     },
     "execution_count": 12,
     "metadata": {},
     "output_type": "execute_result"
    },
    {
     "name": "stdout",
     "output_type": "stream",
     "text": [
      "Accuracy= 0.68945\n",
      "Weighted= 0.6043649999999999\n"
     ]
    },
    {
     "data": {
      "text/plain": [
       "LoanApprovedAI  LoanApproved\n",
       "False           False           925\n",
       "                True             39\n",
       "True            False           595\n",
       "                True            441\n",
       "dtype: int64"
      ]
     },
     "execution_count": 12,
     "metadata": {},
     "output_type": "execute_result"
    }
   ],
   "source": [
    "# to load the model from file\n",
    "new_model = load('credit-risk-model.joblib')\n",
    "new_scaler = load('credit-risk-scaler.joblib')\n",
    "\n",
    "# to load loan application file\n",
    "appurl = fp + \"Loan2-application.csv\"\n",
    "da_orig = pd.read_csv(appurl)\n",
    "da_orig.head(2)\n",
    "\n",
    "# clone original\n",
    "da = da_orig.copy(deep=True)\n",
    "# drop unused column\n",
    "da = da.drop(\"ApplicationDate\", axis=1)\n",
    "# consistent data type\n",
    "da[non_object_fields] = da_orig[non_object_fields].astype('float64')\n",
    "# Binary to Bool\n",
    "da[FeatureFieldB] = da_orig[FeatureFieldB].astype('bool')\n",
    "da[\"LoanApproved\"] = da_orig[\"LoanApproved\"].astype('bool')\n",
    "# One-Hot Encoding\n",
    "da_onehot = pd.get_dummies(da[FeatureFieldO], columns=FeatureFieldO, drop_first=False)\n",
    "da = pd.concat([da, da_onehot], axis=1)\n",
    "\n",
    "da_train = da[sf]\n",
    "# to clone Y from training data, Y is used for result evaluation later\n",
    "Ya = da_train.copy(deep=True).head(2000)\n",
    "\n",
    "# to identify seed record\n",
    "LoanApprovedSeeda = Ya.nlargest(64, \"NetWorth\").nlargest(16, \"MonthlyIncome\").nsmallest(4, \"MonthlyDebtPayments\").nsmallest(1, \"MonthlyLoanPayment\")\n",
    "LoanApprovedSeeda\n",
    "\n",
    "# to prepare X for training\n",
    "Xa = Ya.copy(deep=True)\n",
    "Xa = Xa.drop(drop_fields, axis=1)\n",
    "\n",
    "Xa_scaled = pd.DataFrame(new_scaler.transform(Xa), columns=Xa.columns, index=Xa.index) # to align the index\n",
    "\n",
    "# to predict the result\n",
    "new_labels = new_model.predict(Xa_scaled)\n",
    "ba = pd.DataFrame({\"LoanApprovedAIl\": new_labels}, index=Xa_scaled.index)\n",
    "ba[\"LoanApprovedAI\"] = ba[\"LoanApprovedAIl\"] == ba.loc[LoanApprovedSeeda.index[0]][0]\n",
    "\n",
    "# to calculate accuracy\n",
    "Ya['LoanApproved'] = da_train[\"LoanApproved\"]\n",
    "Ya['LoanApprovedAI'] = new_labels.astype('bool')\n",
    "Ya[\"LoanApprovedCompare\"] = Ya[\"LoanApproved\"] == Ya[\"LoanApprovedAI\"]\n",
    "da_group = Ya.groupby([\"LoanApprovedAI\", \"LoanApproved\"]).size()\n",
    "\n",
    "# Custom weights\n",
    "W_TT = 1.0   # TT (True Positives), Actual Value is same as Predicted Value, both are True\n",
    "W_FF = 0.7   # FF (True Negatives), Actual Value is same as Predicted Value, both are False\n",
    "W_TF = 0.5   # TF (False Negatives), Actual Value is False, Predicted Value is True\n",
    "W_FT = 0.3   # FT (False Positives), Actual Value is True, Predicted Value is False\n",
    "\n",
    "TP = la_tf.loc[(True,True)]  # True Positive (TT)\n",
    "TN = la_tf.loc[(False,False)]  # True Negative (FF)\n",
    "FN = la_tf.loc[(True,False)]  # False Negative (TF)\n",
    "FP = la_tf.loc[(False,True)]  # False Positive (FT)\n",
    "total = TP + TN + FN + FP\n",
    "\n",
    "accuracy = (TP + TN)/total\n",
    "weighted = ((W_TT * TP) + (W_FF * TN) + (W_TF * FN) + (W_FT * FP)) / total\n",
    "print(\"Accuracy=\", accuracy)\n",
    "print(\"Weighted=\", weighted)\n",
    "da_group\n",
    "\n",
    "# to save the Loan Application Approve/Reject result to a file\n",
    "Ya.to_csv(\"Loan2-application-result.csv\", index=False)"
   ]
  }
 ],
 "metadata": {
  "kernelspec": {
   "display_name": ".venv",
   "language": "python",
   "name": "python3"
  },
  "language_info": {
   "codemirror_mode": {
    "name": "ipython",
    "version": 3
   },
   "file_extension": ".py",
   "mimetype": "text/x-python",
   "name": "python",
   "nbconvert_exporter": "python",
   "pygments_lexer": "ipython3",
   "version": "3.12.7"
  }
 },
 "nbformat": 4,
 "nbformat_minor": 2
}
